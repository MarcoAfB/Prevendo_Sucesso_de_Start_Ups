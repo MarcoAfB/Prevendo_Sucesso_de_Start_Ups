{
  "nbformat": 4,
  "nbformat_minor": 0,
  "metadata": {
    "colab": {
      "provenance": [],
      "mount_file_id": "1wXMnpTOvNQLkltflLdrY5W2oTwMdyv1C",
      "authorship_tag": "ABX9TyOZ04eRHpUzSu/svTE1d9WY",
      "include_colab_link": true
    },
    "kernelspec": {
      "name": "python3",
      "display_name": "Python 3"
    },
    "language_info": {
      "name": "python"
    }
  },
  "cells": [
    {
      "cell_type": "markdown",
      "metadata": {
        "id": "view-in-github",
        "colab_type": "text"
      },
      "source": [
        "<a href=\"https://colab.research.google.com/github/MarcoAfB/Prevendo_Sucesso_de_Start_Ups/blob/main/KickStarters.ipynb\" target=\"_parent\"><img src=\"https://colab.research.google.com/assets/colab-badge.svg\" alt=\"Open In Colab\"/></a>"
      ]
    },
    {
      "cell_type": "markdown",
      "source": [
        "# Inicialização do Projeto:\n",
        "\n",
        "O projeto irá buscar analisar e melhor prever o futuro de uma start-up, se baseando nos (dados disponibilizados em https://www.kaggle.com/datasets/thedevastator/most-kickstarter-campaigns-fail-here-s-why) dados coletados em Kicdsatarter que segundo eles são: \"As campanhas do Kickstarter transformam ideias em realidade. É onde os criadores compartilham novas visões para o trabalho criativo com as comunidades que se reunirão para financiá-los\".\n",
        "\n",
        "## Objetivo:\n",
        "\n",
        "Com base nos dados disponíveis criaremos uma algorítimo que possa prever o futuro de uma start up.\n",
        "\n",
        "\n",
        "---\n",
        "\n",
        "\n",
        "\n",
        "\n"
      ],
      "metadata": {
        "id": "kNmX3s_x-Qjv"
      }
    },
    {
      "cell_type": "code",
      "source": [
        "!pip install miceforest"
      ],
      "metadata": {
        "colab": {
          "base_uri": "https://localhost:8080/"
        },
        "id": "2ZDQqlB55njT",
        "outputId": "4fbda442-bd62-4dcd-9e74-9fe6e26ca472"
      },
      "execution_count": null,
      "outputs": [
        {
          "output_type": "stream",
          "name": "stdout",
          "text": [
            "Looking in indexes: https://pypi.org/simple, https://us-python.pkg.dev/colab-wheels/public/simple/\n",
            "Requirement already satisfied: miceforest in /usr/local/lib/python3.8/dist-packages (5.6.3)\n",
            "Requirement already satisfied: blosc in /usr/local/lib/python3.8/dist-packages (from miceforest) (1.11.1)\n",
            "Requirement already satisfied: dill in /usr/local/lib/python3.8/dist-packages (from miceforest) (0.3.6)\n",
            "Requirement already satisfied: lightgbm>=3.3.1 in /usr/local/lib/python3.8/dist-packages (from miceforest) (3.3.4)\n",
            "Requirement already satisfied: numpy in /usr/local/lib/python3.8/dist-packages (from miceforest) (1.21.6)\n",
            "Requirement already satisfied: scikit-learn!=0.22.0 in /usr/local/lib/python3.8/dist-packages (from lightgbm>=3.3.1->miceforest) (1.0.2)\n",
            "Requirement already satisfied: scipy in /usr/local/lib/python3.8/dist-packages (from lightgbm>=3.3.1->miceforest) (1.7.3)\n",
            "Requirement already satisfied: wheel in /usr/local/lib/python3.8/dist-packages (from lightgbm>=3.3.1->miceforest) (0.38.4)\n",
            "Requirement already satisfied: joblib>=0.11 in /usr/local/lib/python3.8/dist-packages (from scikit-learn!=0.22.0->lightgbm>=3.3.1->miceforest) (1.2.0)\n",
            "Requirement already satisfied: threadpoolctl>=2.0.0 in /usr/local/lib/python3.8/dist-packages (from scikit-learn!=0.22.0->lightgbm>=3.3.1->miceforest) (3.1.0)\n"
          ]
        }
      ]
    },
    {
      "cell_type": "code",
      "source": [
        "# Importando as livrarias necessárias\n",
        "import pandas as pd\n",
        "import numpy as np \n",
        "import matplotlib.pyplot as plt\n",
        "import miceforest as mf\n",
        "import statistics as st"
      ],
      "metadata": {
        "id": "Rk4XZ1_--STC"
      },
      "execution_count": null,
      "outputs": []
    },
    {
      "cell_type": "markdown",
      "source": [
        "## LOAD THE DATA"
      ],
      "metadata": {
        "id": "68l3U5PkVbxI"
      }
    },
    {
      "cell_type": "code",
      "source": [
        "# Obtendo os dados\n",
        "data = pd.read_csv('/content/kickstarter_data_full.csv', low_memory=False)\n",
        "\n",
        "# Iremos manter apenas as colunas informadas na descrição do dataset\n",
        "data = data[['id', 'photo', 'name', 'blurb', 'goal',\n",
        "       'pledged', 'state', 'slug', 'disable_communication', 'country',\n",
        "       'currency', 'currency_symbol', 'currency_trailing_code', 'deadline',\n",
        "       'state_changed_at', 'created_at', 'launched_at', 'staff_pick',\n",
        "       'backers_count', 'static_usd_rate', 'usd_pledged', 'creator',\n",
        "       'location', 'category', 'profile', 'spotlight', 'urls', 'source_url']]"
      ],
      "metadata": {
        "id": "aL8Cl2Zm-SVB"
      },
      "execution_count": null,
      "outputs": []
    },
    {
      "cell_type": "markdown",
      "source": [
        "## ENTENDENDO O DATA SET"
      ],
      "metadata": {
        "id": "Nmgx5QWNVlyf"
      }
    },
    {
      "cell_type": "code",
      "source": [
        "# Quntia de colunas e fileiras no data set\n",
        "print(data.shape)"
      ],
      "metadata": {
        "colab": {
          "base_uri": "https://localhost:8080/"
        },
        "id": "4elkz4fnFP1B",
        "outputId": "4558ed05-49f3-4075-a7bc-fbf670c44717"
      },
      "execution_count": null,
      "outputs": [
        {
          "output_type": "stream",
          "name": "stdout",
          "text": [
            "(20632, 28)\n"
          ]
        }
      ]
    },
    {
      "cell_type": "code",
      "source": [
        "# Mostrar todas as colunas do dataframe\n",
        "pd.set_option('display.max_columns', None)\n",
        "# Mostrar até 100 palavras dos strings\n",
        "pd.options.display.max_colwidth = 100\n",
        "data.head()"
      ],
      "metadata": {
        "id": "qDPdq_EZVrob",
        "colab": {
          "base_uri": "https://localhost:8080/",
          "height": 531
        },
        "outputId": "4c69fe86-6214-48cf-8cf4-ff493d8207fe"
      },
      "execution_count": null,
      "outputs": [
        {
          "output_type": "execute_result",
          "data": {
            "text/plain": [
              "           id  \\\n",
              "0  1454391034   \n",
              "1  1655206086   \n",
              "2   311581827   \n",
              "3   859724515   \n",
              "4  1613604977   \n",
              "\n",
              "                                                                                                 photo  \\\n",
              "0  {\"small\":\"https://ksr-ugc.imgix.net/assets/011/959/953/4e53aa51f82e9764b135307761da1cde_original...   \n",
              "1  {\"small\":\"https://ksr-ugc.imgix.net/assets/012/043/791/0b63de0aa160746c6f26a0eed0ae6828_original...   \n",
              "2  {\"small\":\"https://ksr-ugc.imgix.net/assets/012/012/056/c566aeb9b51df01e8dd2828ce97d753f_original...   \n",
              "3  {\"small\":\"https://ksr-ugc.imgix.net/assets/011/860/879/620804a20f84c31d4f53a80313635842_original...   \n",
              "4  {\"small\":\"https://ksr-ugc.imgix.net/assets/012/521/917/305ee995fe695b1920f5e415f12faa15_original...   \n",
              "\n",
              "                                                           name  \\\n",
              "0  Auntie Di's Music Time Sign ASL for Hearing and HOH Children   \n",
              "1                               Jump Start Kindergarten Toolkit   \n",
              "2      Ojukwu Balewa Awolowo (O.B.A.) Public Library Of Nigeria   \n",
              "3                 MASTIZE - [mas-TAHYZ, MAS-tahyz]  - to spread   \n",
              "4      Synopse der EU-DSGVO - Artikel, Erwägungsgründe, BDSG-§§   \n",
              "\n",
              "                                                                                                 blurb  \\\n",
              "0  MTS ASL Curriculum Workbook is a reproducible study book to build Early Literacy and Academic sk...   \n",
              "1  This kit teaches how to print, correct an ugly grasp, and how to make sure your child's fine mot...   \n",
              "2  Establishing a free, world-class, public library which will be a center  for curating and dissem...   \n",
              "3  Goal: Introducing a new word into the English language/dictionary.\\nReason: The beauty of the En...   \n",
              "4  Zu den Artikeln der DSGVO sind die korrespondierenden Erwägungsgründe und die vergleichbaren Reg...   \n",
              "\n",
              "       goal  pledged   state  \\\n",
              "0    1500.0      0.0  failed   \n",
              "1     500.0      0.0  failed   \n",
              "2  100000.0    120.0  failed   \n",
              "3    5000.0      0.0  failed   \n",
              "4    3222.0    356.0  failed   \n",
              "\n",
              "                                                 slug  disable_communication  \\\n",
              "0  auntie-dis-music-time-sign-asl-for-hearing-and-hoh                  False   \n",
              "1                     jump-start-kindergarten-toolkit                  False   \n",
              "2  ojukwu-balewa-awolowo-oba-public-library-of-nigeri                  False   \n",
              "3               mastize-mas-tahyz-mas-tahyz-to-spread                  False   \n",
              "4   synopse-der-eu-dsgvo-artikel-erwagungsgrunde-bdsg                  False   \n",
              "\n",
              "  country currency currency_symbol  currency_trailing_code  \\\n",
              "0      US      USD               $                    True   \n",
              "1      US      USD               $                    True   \n",
              "2      US      USD               $                    True   \n",
              "3      US      USD               $                    True   \n",
              "4      DE      EUR               €                   False   \n",
              "\n",
              "              deadline     state_changed_at           created_at  \\\n",
              "0  2015-01-23 10:35:00  2015-01-23 10:35:00  2014-11-29 22:55:57   \n",
              "1  2015-05-01 16:13:22  2015-05-01 16:13:24  2015-02-20 09:28:43   \n",
              "2  2015-03-26 08:17:04  2015-03-26 08:17:05  2015-01-24 00:08:06   \n",
              "3  2014-10-06 00:41:17  2014-10-06 00:41:17  2014-09-05 22:30:00   \n",
              "4  2016-06-27 12:00:00  2016-06-27 12:00:00  2016-05-25 14:09:49   \n",
              "\n",
              "           launched_at  staff_pick  backers_count  static_usd_rate  \\\n",
              "0  2014-12-17 13:47:36       False              0         1.000000   \n",
              "1  2015-03-02 16:13:22       False              0         1.000000   \n",
              "2  2015-01-25 08:17:04       False              5         1.000000   \n",
              "3  2014-09-06 00:41:17       False              0         1.000000   \n",
              "4  2016-05-26 05:57:27       False             17         1.114613   \n",
              "\n",
              "   usd_pledged  \\\n",
              "0     0.000000   \n",
              "1     0.000000   \n",
              "2   120.000000   \n",
              "3     0.000000   \n",
              "4   396.802395   \n",
              "\n",
              "                                                                                               creator  \\\n",
              "0  {\"urls\":{\"web\":{\"user\":\"https://www.kickstarter.com/profile/1469579873\"},\"api\":{\"user\":\"https://...   \n",
              "1  {\"urls\":{\"web\":{\"user\":\"https://www.kickstarter.com/profile/469955675\"},\"api\":{\"user\":\"https://a...   \n",
              "2  {\"urls\":{\"web\":{\"user\":\"https://www.kickstarter.com/profile/843612324\"},\"api\":{\"user\":\"https://a...   \n",
              "3  {\"urls\":{\"web\":{\"user\":\"https://www.kickstarter.com/profile/926977749\"},\"api\":{\"user\":\"https://a...   \n",
              "4  {\"urls\":{\"web\":{\"user\":\"https://www.kickstarter.com/profile/efweha\"},\"api\":{\"user\":\"https://api....   \n",
              "\n",
              "                                                                                              location  \\\n",
              "0  {\"country\":\"US\",\"urls\":{\"web\":{\"discover\":\"https://www.kickstarter.com/discover/places/san-ferna...   \n",
              "1  {\"country\":\"US\",\"urls\":{\"web\":{\"discover\":\"https://www.kickstarter.com/discover/places/greenwood...   \n",
              "2  {\"country\":\"NG\",\"urls\":{\"web\":{\"discover\":\"https://www.kickstarter.com/discover/places/lagos-ng\"...   \n",
              "3  {\"country\":\"US\",\"urls\":{\"web\":{\"discover\":\"https://www.kickstarter.com/discover/places/branson-m...   \n",
              "4  {\"country\":\"DE\",\"urls\":{\"web\":{\"discover\":\"https://www.kickstarter.com/discover/places/ismaning-...   \n",
              "\n",
              "   category  \\\n",
              "0  Academic   \n",
              "1  Academic   \n",
              "2  Academic   \n",
              "3  Academic   \n",
              "4  Academic   \n",
              "\n",
              "                                                                                               profile  \\\n",
              "0  {\"background_image_opacity\":0.8,\"should_show_feature_image_section\":true,\"link_text_color\":null,...   \n",
              "1  {\"background_image_opacity\":0.8,\"should_show_feature_image_section\":true,\"link_text_color\":null,...   \n",
              "2  {\"background_image_opacity\":0.8,\"should_show_feature_image_section\":true,\"link_text_color\":null,...   \n",
              "3  {\"background_image_opacity\":0.8,\"should_show_feature_image_section\":true,\"link_text_color\":null,...   \n",
              "4  {\"background_image_opacity\":0.8,\"should_show_feature_image_section\":true,\"link_text_color\":null,...   \n",
              "\n",
              "   spotlight  \\\n",
              "0      False   \n",
              "1      False   \n",
              "2      False   \n",
              "3      False   \n",
              "4      False   \n",
              "\n",
              "                                                                                                  urls  \\\n",
              "0  {\"web\":{\"project\":\"https://www.kickstarter.com/projects/1469579873/auntie-dis-music-time-sign-as...   \n",
              "1  {\"web\":{\"project\":\"https://www.kickstarter.com/projects/469955675/jump-start-kindergarten-toolki...   \n",
              "2  {\"web\":{\"project\":\"https://www.kickstarter.com/projects/843612324/ojukwu-balewa-awolowo-oba-publ...   \n",
              "3  {\"web\":{\"project\":\"https://www.kickstarter.com/projects/926977749/mastize-mas-tahyz-mas-tahyz-to...   \n",
              "4  {\"web\":{\"project\":\"https://www.kickstarter.com/projects/efweha/synopse-der-eu-dsgvo-artikel-erwa...   \n",
              "\n",
              "                                                                                          source_url  \n",
              "0  https://www.kickstarter.com/discover/categories/publishing/academic?ref=category_modal&sort=magic  \n",
              "1  https://www.kickstarter.com/discover/categories/publishing/academic?ref=category_modal&sort=magic  \n",
              "2  https://www.kickstarter.com/discover/categories/publishing/academic?ref=category_modal&sort=magic  \n",
              "3  https://www.kickstarter.com/discover/categories/publishing/academic?ref=category_modal&sort=magic  \n",
              "4  https://www.kickstarter.com/discover/categories/publishing/academic?ref=category_modal&sort=magic  "
            ],
            "text/html": [
              "\n",
              "  <div id=\"df-079fb3a6-5b31-44e8-bd9b-8f147d024508\">\n",
              "    <div class=\"colab-df-container\">\n",
              "      <div>\n",
              "<style scoped>\n",
              "    .dataframe tbody tr th:only-of-type {\n",
              "        vertical-align: middle;\n",
              "    }\n",
              "\n",
              "    .dataframe tbody tr th {\n",
              "        vertical-align: top;\n",
              "    }\n",
              "\n",
              "    .dataframe thead th {\n",
              "        text-align: right;\n",
              "    }\n",
              "</style>\n",
              "<table border=\"1\" class=\"dataframe\">\n",
              "  <thead>\n",
              "    <tr style=\"text-align: right;\">\n",
              "      <th></th>\n",
              "      <th>id</th>\n",
              "      <th>photo</th>\n",
              "      <th>name</th>\n",
              "      <th>blurb</th>\n",
              "      <th>goal</th>\n",
              "      <th>pledged</th>\n",
              "      <th>state</th>\n",
              "      <th>slug</th>\n",
              "      <th>disable_communication</th>\n",
              "      <th>country</th>\n",
              "      <th>currency</th>\n",
              "      <th>currency_symbol</th>\n",
              "      <th>currency_trailing_code</th>\n",
              "      <th>deadline</th>\n",
              "      <th>state_changed_at</th>\n",
              "      <th>created_at</th>\n",
              "      <th>launched_at</th>\n",
              "      <th>staff_pick</th>\n",
              "      <th>backers_count</th>\n",
              "      <th>static_usd_rate</th>\n",
              "      <th>usd_pledged</th>\n",
              "      <th>creator</th>\n",
              "      <th>location</th>\n",
              "      <th>category</th>\n",
              "      <th>profile</th>\n",
              "      <th>spotlight</th>\n",
              "      <th>urls</th>\n",
              "      <th>source_url</th>\n",
              "    </tr>\n",
              "  </thead>\n",
              "  <tbody>\n",
              "    <tr>\n",
              "      <th>0</th>\n",
              "      <td>1454391034</td>\n",
              "      <td>{\"small\":\"https://ksr-ugc.imgix.net/assets/011/959/953/4e53aa51f82e9764b135307761da1cde_original...</td>\n",
              "      <td>Auntie Di's Music Time Sign ASL for Hearing and HOH Children</td>\n",
              "      <td>MTS ASL Curriculum Workbook is a reproducible study book to build Early Literacy and Academic sk...</td>\n",
              "      <td>1500.0</td>\n",
              "      <td>0.0</td>\n",
              "      <td>failed</td>\n",
              "      <td>auntie-dis-music-time-sign-asl-for-hearing-and-hoh</td>\n",
              "      <td>False</td>\n",
              "      <td>US</td>\n",
              "      <td>USD</td>\n",
              "      <td>$</td>\n",
              "      <td>True</td>\n",
              "      <td>2015-01-23 10:35:00</td>\n",
              "      <td>2015-01-23 10:35:00</td>\n",
              "      <td>2014-11-29 22:55:57</td>\n",
              "      <td>2014-12-17 13:47:36</td>\n",
              "      <td>False</td>\n",
              "      <td>0</td>\n",
              "      <td>1.000000</td>\n",
              "      <td>0.000000</td>\n",
              "      <td>{\"urls\":{\"web\":{\"user\":\"https://www.kickstarter.com/profile/1469579873\"},\"api\":{\"user\":\"https://...</td>\n",
              "      <td>{\"country\":\"US\",\"urls\":{\"web\":{\"discover\":\"https://www.kickstarter.com/discover/places/san-ferna...</td>\n",
              "      <td>Academic</td>\n",
              "      <td>{\"background_image_opacity\":0.8,\"should_show_feature_image_section\":true,\"link_text_color\":null,...</td>\n",
              "      <td>False</td>\n",
              "      <td>{\"web\":{\"project\":\"https://www.kickstarter.com/projects/1469579873/auntie-dis-music-time-sign-as...</td>\n",
              "      <td>https://www.kickstarter.com/discover/categories/publishing/academic?ref=category_modal&amp;sort=magic</td>\n",
              "    </tr>\n",
              "    <tr>\n",
              "      <th>1</th>\n",
              "      <td>1655206086</td>\n",
              "      <td>{\"small\":\"https://ksr-ugc.imgix.net/assets/012/043/791/0b63de0aa160746c6f26a0eed0ae6828_original...</td>\n",
              "      <td>Jump Start Kindergarten Toolkit</td>\n",
              "      <td>This kit teaches how to print, correct an ugly grasp, and how to make sure your child's fine mot...</td>\n",
              "      <td>500.0</td>\n",
              "      <td>0.0</td>\n",
              "      <td>failed</td>\n",
              "      <td>jump-start-kindergarten-toolkit</td>\n",
              "      <td>False</td>\n",
              "      <td>US</td>\n",
              "      <td>USD</td>\n",
              "      <td>$</td>\n",
              "      <td>True</td>\n",
              "      <td>2015-05-01 16:13:22</td>\n",
              "      <td>2015-05-01 16:13:24</td>\n",
              "      <td>2015-02-20 09:28:43</td>\n",
              "      <td>2015-03-02 16:13:22</td>\n",
              "      <td>False</td>\n",
              "      <td>0</td>\n",
              "      <td>1.000000</td>\n",
              "      <td>0.000000</td>\n",
              "      <td>{\"urls\":{\"web\":{\"user\":\"https://www.kickstarter.com/profile/469955675\"},\"api\":{\"user\":\"https://a...</td>\n",
              "      <td>{\"country\":\"US\",\"urls\":{\"web\":{\"discover\":\"https://www.kickstarter.com/discover/places/greenwood...</td>\n",
              "      <td>Academic</td>\n",
              "      <td>{\"background_image_opacity\":0.8,\"should_show_feature_image_section\":true,\"link_text_color\":null,...</td>\n",
              "      <td>False</td>\n",
              "      <td>{\"web\":{\"project\":\"https://www.kickstarter.com/projects/469955675/jump-start-kindergarten-toolki...</td>\n",
              "      <td>https://www.kickstarter.com/discover/categories/publishing/academic?ref=category_modal&amp;sort=magic</td>\n",
              "    </tr>\n",
              "    <tr>\n",
              "      <th>2</th>\n",
              "      <td>311581827</td>\n",
              "      <td>{\"small\":\"https://ksr-ugc.imgix.net/assets/012/012/056/c566aeb9b51df01e8dd2828ce97d753f_original...</td>\n",
              "      <td>Ojukwu Balewa Awolowo (O.B.A.) Public Library Of Nigeria</td>\n",
              "      <td>Establishing a free, world-class, public library which will be a center  for curating and dissem...</td>\n",
              "      <td>100000.0</td>\n",
              "      <td>120.0</td>\n",
              "      <td>failed</td>\n",
              "      <td>ojukwu-balewa-awolowo-oba-public-library-of-nigeri</td>\n",
              "      <td>False</td>\n",
              "      <td>US</td>\n",
              "      <td>USD</td>\n",
              "      <td>$</td>\n",
              "      <td>True</td>\n",
              "      <td>2015-03-26 08:17:04</td>\n",
              "      <td>2015-03-26 08:17:05</td>\n",
              "      <td>2015-01-24 00:08:06</td>\n",
              "      <td>2015-01-25 08:17:04</td>\n",
              "      <td>False</td>\n",
              "      <td>5</td>\n",
              "      <td>1.000000</td>\n",
              "      <td>120.000000</td>\n",
              "      <td>{\"urls\":{\"web\":{\"user\":\"https://www.kickstarter.com/profile/843612324\"},\"api\":{\"user\":\"https://a...</td>\n",
              "      <td>{\"country\":\"NG\",\"urls\":{\"web\":{\"discover\":\"https://www.kickstarter.com/discover/places/lagos-ng\"...</td>\n",
              "      <td>Academic</td>\n",
              "      <td>{\"background_image_opacity\":0.8,\"should_show_feature_image_section\":true,\"link_text_color\":null,...</td>\n",
              "      <td>False</td>\n",
              "      <td>{\"web\":{\"project\":\"https://www.kickstarter.com/projects/843612324/ojukwu-balewa-awolowo-oba-publ...</td>\n",
              "      <td>https://www.kickstarter.com/discover/categories/publishing/academic?ref=category_modal&amp;sort=magic</td>\n",
              "    </tr>\n",
              "    <tr>\n",
              "      <th>3</th>\n",
              "      <td>859724515</td>\n",
              "      <td>{\"small\":\"https://ksr-ugc.imgix.net/assets/011/860/879/620804a20f84c31d4f53a80313635842_original...</td>\n",
              "      <td>MASTIZE - [mas-TAHYZ, MAS-tahyz]  - to spread</td>\n",
              "      <td>Goal: Introducing a new word into the English language/dictionary.\\nReason: The beauty of the En...</td>\n",
              "      <td>5000.0</td>\n",
              "      <td>0.0</td>\n",
              "      <td>failed</td>\n",
              "      <td>mastize-mas-tahyz-mas-tahyz-to-spread</td>\n",
              "      <td>False</td>\n",
              "      <td>US</td>\n",
              "      <td>USD</td>\n",
              "      <td>$</td>\n",
              "      <td>True</td>\n",
              "      <td>2014-10-06 00:41:17</td>\n",
              "      <td>2014-10-06 00:41:17</td>\n",
              "      <td>2014-09-05 22:30:00</td>\n",
              "      <td>2014-09-06 00:41:17</td>\n",
              "      <td>False</td>\n",
              "      <td>0</td>\n",
              "      <td>1.000000</td>\n",
              "      <td>0.000000</td>\n",
              "      <td>{\"urls\":{\"web\":{\"user\":\"https://www.kickstarter.com/profile/926977749\"},\"api\":{\"user\":\"https://a...</td>\n",
              "      <td>{\"country\":\"US\",\"urls\":{\"web\":{\"discover\":\"https://www.kickstarter.com/discover/places/branson-m...</td>\n",
              "      <td>Academic</td>\n",
              "      <td>{\"background_image_opacity\":0.8,\"should_show_feature_image_section\":true,\"link_text_color\":null,...</td>\n",
              "      <td>False</td>\n",
              "      <td>{\"web\":{\"project\":\"https://www.kickstarter.com/projects/926977749/mastize-mas-tahyz-mas-tahyz-to...</td>\n",
              "      <td>https://www.kickstarter.com/discover/categories/publishing/academic?ref=category_modal&amp;sort=magic</td>\n",
              "    </tr>\n",
              "    <tr>\n",
              "      <th>4</th>\n",
              "      <td>1613604977</td>\n",
              "      <td>{\"small\":\"https://ksr-ugc.imgix.net/assets/012/521/917/305ee995fe695b1920f5e415f12faa15_original...</td>\n",
              "      <td>Synopse der EU-DSGVO - Artikel, Erwägungsgründe, BDSG-§§</td>\n",
              "      <td>Zu den Artikeln der DSGVO sind die korrespondierenden Erwägungsgründe und die vergleichbaren Reg...</td>\n",
              "      <td>3222.0</td>\n",
              "      <td>356.0</td>\n",
              "      <td>failed</td>\n",
              "      <td>synopse-der-eu-dsgvo-artikel-erwagungsgrunde-bdsg</td>\n",
              "      <td>False</td>\n",
              "      <td>DE</td>\n",
              "      <td>EUR</td>\n",
              "      <td>€</td>\n",
              "      <td>False</td>\n",
              "      <td>2016-06-27 12:00:00</td>\n",
              "      <td>2016-06-27 12:00:00</td>\n",
              "      <td>2016-05-25 14:09:49</td>\n",
              "      <td>2016-05-26 05:57:27</td>\n",
              "      <td>False</td>\n",
              "      <td>17</td>\n",
              "      <td>1.114613</td>\n",
              "      <td>396.802395</td>\n",
              "      <td>{\"urls\":{\"web\":{\"user\":\"https://www.kickstarter.com/profile/efweha\"},\"api\":{\"user\":\"https://api....</td>\n",
              "      <td>{\"country\":\"DE\",\"urls\":{\"web\":{\"discover\":\"https://www.kickstarter.com/discover/places/ismaning-...</td>\n",
              "      <td>Academic</td>\n",
              "      <td>{\"background_image_opacity\":0.8,\"should_show_feature_image_section\":true,\"link_text_color\":null,...</td>\n",
              "      <td>False</td>\n",
              "      <td>{\"web\":{\"project\":\"https://www.kickstarter.com/projects/efweha/synopse-der-eu-dsgvo-artikel-erwa...</td>\n",
              "      <td>https://www.kickstarter.com/discover/categories/publishing/academic?ref=category_modal&amp;sort=magic</td>\n",
              "    </tr>\n",
              "  </tbody>\n",
              "</table>\n",
              "</div>\n",
              "      <button class=\"colab-df-convert\" onclick=\"convertToInteractive('df-079fb3a6-5b31-44e8-bd9b-8f147d024508')\"\n",
              "              title=\"Convert this dataframe to an interactive table.\"\n",
              "              style=\"display:none;\">\n",
              "        \n",
              "  <svg xmlns=\"http://www.w3.org/2000/svg\" height=\"24px\"viewBox=\"0 0 24 24\"\n",
              "       width=\"24px\">\n",
              "    <path d=\"M0 0h24v24H0V0z\" fill=\"none\"/>\n",
              "    <path d=\"M18.56 5.44l.94 2.06.94-2.06 2.06-.94-2.06-.94-.94-2.06-.94 2.06-2.06.94zm-11 1L8.5 8.5l.94-2.06 2.06-.94-2.06-.94L8.5 2.5l-.94 2.06-2.06.94zm10 10l.94 2.06.94-2.06 2.06-.94-2.06-.94-.94-2.06-.94 2.06-2.06.94z\"/><path d=\"M17.41 7.96l-1.37-1.37c-.4-.4-.92-.59-1.43-.59-.52 0-1.04.2-1.43.59L10.3 9.45l-7.72 7.72c-.78.78-.78 2.05 0 2.83L4 21.41c.39.39.9.59 1.41.59.51 0 1.02-.2 1.41-.59l7.78-7.78 2.81-2.81c.8-.78.8-2.07 0-2.86zM5.41 20L4 18.59l7.72-7.72 1.47 1.35L5.41 20z\"/>\n",
              "  </svg>\n",
              "      </button>\n",
              "      \n",
              "  <style>\n",
              "    .colab-df-container {\n",
              "      display:flex;\n",
              "      flex-wrap:wrap;\n",
              "      gap: 12px;\n",
              "    }\n",
              "\n",
              "    .colab-df-convert {\n",
              "      background-color: #E8F0FE;\n",
              "      border: none;\n",
              "      border-radius: 50%;\n",
              "      cursor: pointer;\n",
              "      display: none;\n",
              "      fill: #1967D2;\n",
              "      height: 32px;\n",
              "      padding: 0 0 0 0;\n",
              "      width: 32px;\n",
              "    }\n",
              "\n",
              "    .colab-df-convert:hover {\n",
              "      background-color: #E2EBFA;\n",
              "      box-shadow: 0px 1px 2px rgba(60, 64, 67, 0.3), 0px 1px 3px 1px rgba(60, 64, 67, 0.15);\n",
              "      fill: #174EA6;\n",
              "    }\n",
              "\n",
              "    [theme=dark] .colab-df-convert {\n",
              "      background-color: #3B4455;\n",
              "      fill: #D2E3FC;\n",
              "    }\n",
              "\n",
              "    [theme=dark] .colab-df-convert:hover {\n",
              "      background-color: #434B5C;\n",
              "      box-shadow: 0px 1px 3px 1px rgba(0, 0, 0, 0.15);\n",
              "      filter: drop-shadow(0px 1px 2px rgba(0, 0, 0, 0.3));\n",
              "      fill: #FFFFFF;\n",
              "    }\n",
              "  </style>\n",
              "\n",
              "      <script>\n",
              "        const buttonEl =\n",
              "          document.querySelector('#df-079fb3a6-5b31-44e8-bd9b-8f147d024508 button.colab-df-convert');\n",
              "        buttonEl.style.display =\n",
              "          google.colab.kernel.accessAllowed ? 'block' : 'none';\n",
              "\n",
              "        async function convertToInteractive(key) {\n",
              "          const element = document.querySelector('#df-079fb3a6-5b31-44e8-bd9b-8f147d024508');\n",
              "          const dataTable =\n",
              "            await google.colab.kernel.invokeFunction('convertToInteractive',\n",
              "                                                     [key], {});\n",
              "          if (!dataTable) return;\n",
              "\n",
              "          const docLinkHtml = 'Like what you see? Visit the ' +\n",
              "            '<a target=\"_blank\" href=https://colab.research.google.com/notebooks/data_table.ipynb>data table notebook</a>'\n",
              "            + ' to learn more about interactive tables.';\n",
              "          element.innerHTML = '';\n",
              "          dataTable['output_type'] = 'display_data';\n",
              "          await google.colab.output.renderOutput(dataTable, element);\n",
              "          const docLink = document.createElement('div');\n",
              "          docLink.innerHTML = docLinkHtml;\n",
              "          element.appendChild(docLink);\n",
              "        }\n",
              "      </script>\n",
              "    </div>\n",
              "  </div>\n",
              "  "
            ]
          },
          "metadata": {},
          "execution_count": 8
        }
      ]
    },
    {
      "cell_type": "code",
      "source": [
        "# Coletando informações do tipos dos dados\n",
        "data.info()"
      ],
      "metadata": {
        "id": "PYFtQWmiVtg8",
        "colab": {
          "base_uri": "https://localhost:8080/"
        },
        "outputId": "1bbed5d7-f1f0-4815-d68d-9c678cf32607"
      },
      "execution_count": null,
      "outputs": [
        {
          "output_type": "stream",
          "name": "stdout",
          "text": [
            "<class 'pandas.core.frame.DataFrame'>\n",
            "RangeIndex: 20632 entries, 0 to 20631\n",
            "Data columns (total 28 columns):\n",
            " #   Column                  Non-Null Count  Dtype  \n",
            "---  ------                  --------------  -----  \n",
            " 0   id                      20632 non-null  int64  \n",
            " 1   photo                   20632 non-null  object \n",
            " 2   name                    20632 non-null  object \n",
            " 3   blurb                   20627 non-null  object \n",
            " 4   goal                    20632 non-null  float64\n",
            " 5   pledged                 20632 non-null  float64\n",
            " 6   state                   20632 non-null  object \n",
            " 7   slug                    20632 non-null  object \n",
            " 8   disable_communication   20632 non-null  bool   \n",
            " 9   country                 20632 non-null  object \n",
            " 10  currency                20632 non-null  object \n",
            " 11  currency_symbol         20632 non-null  object \n",
            " 12  currency_trailing_code  20632 non-null  bool   \n",
            " 13  deadline                20632 non-null  object \n",
            " 14  state_changed_at        20632 non-null  object \n",
            " 15  created_at              20632 non-null  object \n",
            " 16  launched_at             20632 non-null  object \n",
            " 17  staff_pick              20632 non-null  bool   \n",
            " 18  backers_count           20632 non-null  int64  \n",
            " 19  static_usd_rate         20632 non-null  float64\n",
            " 20  usd_pledged             20632 non-null  float64\n",
            " 21  creator                 20632 non-null  object \n",
            " 22  location                20587 non-null  object \n",
            " 23  category                18743 non-null  object \n",
            " 24  profile                 20632 non-null  object \n",
            " 25  spotlight               20632 non-null  bool   \n",
            " 26  urls                    20632 non-null  object \n",
            " 27  source_url              20632 non-null  object \n",
            "dtypes: bool(4), float64(4), int64(2), object(18)\n",
            "memory usage: 3.9+ MB\n"
          ]
        }
      ]
    },
    {
      "cell_type": "code",
      "source": [
        "# Variavel que buscaremos prever\n",
        "data['state'].value_counts()"
      ],
      "metadata": {
        "id": "cS4cZz66VxAW",
        "colab": {
          "base_uri": "https://localhost:8080/"
        },
        "outputId": "3e9eb726-42e1-4988-ddba-0c79333130ef"
      },
      "execution_count": null,
      "outputs": [
        {
          "output_type": "execute_result",
          "data": {
            "text/plain": [
              "failed        11416\n",
              "successful     6018\n",
              "canceled       2460\n",
              "live            508\n",
              "suspended       230\n",
              "Name: state, dtype: int64"
            ]
          },
          "metadata": {},
          "execution_count": 10
        }
      ]
    },
    {
      "cell_type": "markdown",
      "source": [
        "# DATA PREPROCESSING"
      ],
      "metadata": {
        "id": "dj9CTy2gVzsL"
      }
    },
    {
      "cell_type": "markdown",
      "source": [
        "### Transformando as Variáveis"
      ],
      "metadata": {
        "id": "ILk0Pi0XV4v1"
      }
    },
    {
      "cell_type": "markdown",
      "source": [
        "Deletaremos a classe 'live' da variável, pois ainda não houve a resposta. Poderemos usar ao final como a parte \"prática\" do projeto, mas agora não nos será útil, e para as restantes iremos tratar como 'failed'."
      ],
      "metadata": {
        "id": "4r25UI6kXR3L"
      }
    },
    {
      "cell_type": "code",
      "source": [
        "# Deletando os dados em live\n",
        "live_data = data[data.state == 'live']\n",
        "data.drop(live_data.index, axis=0, inplace=True)\n",
        "\n",
        "# Transformando as strings em valores (sucessful = 1, as demais = 0)\n",
        "data['state'] = np.where(data['state'] == 'successful', 1, 0)\n",
        "\n",
        "# Arrumando o indice, pois deletamos alguns rows\n",
        "data.reset_index(inplace=True)"
      ],
      "metadata": {
        "id": "pv13Xir2Vy__"
      },
      "execution_count": null,
      "outputs": []
    },
    {
      "cell_type": "code",
      "source": [
        "# Iremos salavar o 'country' em uma variavel\n",
        "country = data['country']\n",
        "# Iremos salavar o 'currency' em uma variavel\n",
        "currency = data['currency']\n",
        "# Iremos salavar o 'currency' em uma variavel\n",
        "category = data['category']"
      ],
      "metadata": {
        "id": "4EUybdpcKs1Q"
      },
      "execution_count": null,
      "outputs": []
    },
    {
      "cell_type": "code",
      "source": [
        "# Transformando os bool em int (True = 1, False = 0)\n",
        "data[['disable_communication',\t'currency_trailing_code',\t'staff_pick']] = np.where(\n",
        "    data[['disable_communication',\t'currency_trailing_code','staff_pick']] == True, 1, 0)"
      ],
      "metadata": {
        "id": "zp7TFlPMWG19"
      },
      "execution_count": null,
      "outputs": []
    },
    {
      "cell_type": "markdown",
      "source": [
        "Deveremos criar uma cópia do data set, pois não podemos modificar os missing values usando one-hot encode, como sera feito no original, ao invés, iremos utilizar o 'label encode' que irá transformar as categorias strings em números, esse método não é bom ser usado para o machine learning, pois ele irá levar isso como um ranking, sendo 1<2<3<4<5... quando, na verdade não há relação de ranking entre essas variáveis. (caso houvesse, usar esse método não teria problemas)"
      ],
      "metadata": {
        "id": "vNaYg8WiKNzt"
      }
    },
    {
      "cell_type": "code",
      "source": [
        "# Criando a copia do data set original\n",
        "data_copy = data.copy()\n",
        "\n",
        "# Transformando as categorical strings em columns \n",
        "data_copy = pd.get_dummies(data_copy, columns = ['country', 'currency'])\n",
        "\n",
        "# Excluindo uma coluna que é criada automaticamente com o uso da função '.copy()'\n",
        "data_copy.drop('index', axis=1, inplace=True)"
      ],
      "metadata": {
        "id": "1BXuELqkJ6D5"
      },
      "execution_count": null,
      "outputs": []
    },
    {
      "cell_type": "code",
      "source": [
        "# Tecnica chamada one-hot code, iremos transformar as categorias strings em colunas\n",
        "data = pd.get_dummies(data, columns = ['country', 'currency', 'category'],\n",
        "                      dummy_na=True)"
      ],
      "metadata": {
        "id": "bB4GSyuSWLFl"
      },
      "execution_count": null,
      "outputs": []
    },
    {
      "cell_type": "markdown",
      "source": [
        "## Missing Values\n",
        "\n",
        "Para missing values há 3 tipos, missing completely at random (mcat), quando o missing value não tem ligação com os parâmetros observados e os que não foram observados (não estão no dataset). Já o missing at Random (mat) tem relação com dados observados e não com os dados que não foram observados e por último o, missing not at random (mnar) tem ligação apenas com os dados não observados"
      ],
      "metadata": {
        "id": "_P19hX5eWODc"
      }
    },
    {
      "cell_type": "code",
      "source": [
        "# Vendo as variaveis com missing values\n",
        "for i in data.isnull().sum().index:\n",
        "    if data.isnull().sum().loc[i] > 1:\n",
        "        print(i, data.isnull().sum().loc[i])"
      ],
      "metadata": {
        "id": "OwNt1SZhWNQ7",
        "colab": {
          "base_uri": "https://localhost:8080/"
        },
        "outputId": "1cc15bd4-e13f-4f2c-f2d4-9b1364483c16"
      },
      "execution_count": null,
      "outputs": [
        {
          "output_type": "stream",
          "name": "stdout",
          "text": [
            "blurb 5\n",
            "location 45\n"
          ]
        }
      ]
    },
    {
      "cell_type": "markdown",
      "source": [
        "Iremos começar por category"
      ],
      "metadata": {
        "id": "aERmvRKybbBA"
      }
    },
    {
      "cell_type": "code",
      "source": [
        "# Salvando as categorical string da coluna 'category' em uma variavel\n",
        "par_category = data_copy['category'].value_counts().index\n",
        "\n",
        "# Iremos usar 'label encoding' em 'category'\n",
        "data_copy['category'] = data_copy['category'].replace(\n",
        "    par_category, range(\n",
        "        len(data_copy['category'].value_counts().index)))\n",
        "\n",
        "# Analisando os missing values\n",
        "data_copy['category'][118:130]"
      ],
      "metadata": {
        "id": "GBg_ogYKWT2k",
        "colab": {
          "base_uri": "https://localhost:8080/"
        },
        "outputId": "394f15c5-1e00-41dd-f24a-087068a5db12"
      },
      "execution_count": null,
      "outputs": [
        {
          "output_type": "execute_result",
          "data": {
            "text/plain": [
              "118    16.0\n",
              "119    16.0\n",
              "120     NaN\n",
              "121     NaN\n",
              "122     NaN\n",
              "123     NaN\n",
              "124     NaN\n",
              "125     NaN\n",
              "126     NaN\n",
              "127     NaN\n",
              "128     NaN\n",
              "129     NaN\n",
              "Name: category, dtype: float64"
            ]
          },
          "metadata": {},
          "execution_count": 17
        }
      ]
    },
    {
      "cell_type": "markdown",
      "source": [
        "Ao analisar 'category' podemos perceber um padrão nas classificações e para os missing values não parece ser diferente. Iremos então criar uma função para podermos identificar se há realmente padrões nos missing values"
      ],
      "metadata": {
        "id": "tj_ME8ujYBCm"
      }
    },
    {
      "cell_type": "code",
      "source": [
        "def Nulls(data):\n",
        "\n",
        "    # Criando uma lista contendo os indices dos valores nullos\n",
        "    ind = list(data[data['category_nan'] == 1].index)\n",
        "\n",
        "    # lista com o indice que começam e terminam os nulls\n",
        "    null_index = []\n",
        "\n",
        "    # O loop irá salvar madanças que ocorreram no valor index\n",
        "    for i in range(len(ind)):\n",
        "        if ind[i] != ind[i-1] + 1:\n",
        "            \n",
        "            null_index.append(ind[i-1])\n",
        "            null_index.append(ind[i])\n",
        "\n",
        "    # A primeira mudança é do ultimo para o primeiro, por isso sort\n",
        "    null_index = sorted(null_index)\n",
        "\n",
        "    # Colocar os dados em um dataframe\n",
        "    null_index = pd.DataFrame([null_index[0::2],\n",
        "                               null_index[1::2]], \n",
        "                               index=['Começa', 'Termina'])\n",
        "\n",
        "    return null_index\n",
        "\n",
        "# Chamar a função\n",
        "null_index = Nulls(data)\n",
        "\n",
        "# visualizando os ranges de nulls\n",
        "null_index"
      ],
      "metadata": {
        "id": "xhRsrePTWUAS",
        "colab": {
          "base_uri": "https://localhost:8080/",
          "height": 112
        },
        "outputId": "39396246-ead4-44cd-aee6-a0aa587ceeed"
      },
      "execution_count": null,
      "outputs": [
        {
          "output_type": "execute_result",
          "data": {
            "text/plain": [
              "           0    1    2     3     4     5      6\n",
              "Começa   120  298  538  1178  8278  8412  17973\n",
              "Termina  279  437  577  1212  8371  8581  19179"
            ],
            "text/html": [
              "\n",
              "  <div id=\"df-ef901b1c-7ac7-4c10-9ba6-2829972797e7\">\n",
              "    <div class=\"colab-df-container\">\n",
              "      <div>\n",
              "<style scoped>\n",
              "    .dataframe tbody tr th:only-of-type {\n",
              "        vertical-align: middle;\n",
              "    }\n",
              "\n",
              "    .dataframe tbody tr th {\n",
              "        vertical-align: top;\n",
              "    }\n",
              "\n",
              "    .dataframe thead th {\n",
              "        text-align: right;\n",
              "    }\n",
              "</style>\n",
              "<table border=\"1\" class=\"dataframe\">\n",
              "  <thead>\n",
              "    <tr style=\"text-align: right;\">\n",
              "      <th></th>\n",
              "      <th>0</th>\n",
              "      <th>1</th>\n",
              "      <th>2</th>\n",
              "      <th>3</th>\n",
              "      <th>4</th>\n",
              "      <th>5</th>\n",
              "      <th>6</th>\n",
              "    </tr>\n",
              "  </thead>\n",
              "  <tbody>\n",
              "    <tr>\n",
              "      <th>Começa</th>\n",
              "      <td>120</td>\n",
              "      <td>298</td>\n",
              "      <td>538</td>\n",
              "      <td>1178</td>\n",
              "      <td>8278</td>\n",
              "      <td>8412</td>\n",
              "      <td>17973</td>\n",
              "    </tr>\n",
              "    <tr>\n",
              "      <th>Termina</th>\n",
              "      <td>279</td>\n",
              "      <td>437</td>\n",
              "      <td>577</td>\n",
              "      <td>1212</td>\n",
              "      <td>8371</td>\n",
              "      <td>8581</td>\n",
              "      <td>19179</td>\n",
              "    </tr>\n",
              "  </tbody>\n",
              "</table>\n",
              "</div>\n",
              "      <button class=\"colab-df-convert\" onclick=\"convertToInteractive('df-ef901b1c-7ac7-4c10-9ba6-2829972797e7')\"\n",
              "              title=\"Convert this dataframe to an interactive table.\"\n",
              "              style=\"display:none;\">\n",
              "        \n",
              "  <svg xmlns=\"http://www.w3.org/2000/svg\" height=\"24px\"viewBox=\"0 0 24 24\"\n",
              "       width=\"24px\">\n",
              "    <path d=\"M0 0h24v24H0V0z\" fill=\"none\"/>\n",
              "    <path d=\"M18.56 5.44l.94 2.06.94-2.06 2.06-.94-2.06-.94-.94-2.06-.94 2.06-2.06.94zm-11 1L8.5 8.5l.94-2.06 2.06-.94-2.06-.94L8.5 2.5l-.94 2.06-2.06.94zm10 10l.94 2.06.94-2.06 2.06-.94-2.06-.94-.94-2.06-.94 2.06-2.06.94z\"/><path d=\"M17.41 7.96l-1.37-1.37c-.4-.4-.92-.59-1.43-.59-.52 0-1.04.2-1.43.59L10.3 9.45l-7.72 7.72c-.78.78-.78 2.05 0 2.83L4 21.41c.39.39.9.59 1.41.59.51 0 1.02-.2 1.41-.59l7.78-7.78 2.81-2.81c.8-.78.8-2.07 0-2.86zM5.41 20L4 18.59l7.72-7.72 1.47 1.35L5.41 20z\"/>\n",
              "  </svg>\n",
              "      </button>\n",
              "      \n",
              "  <style>\n",
              "    .colab-df-container {\n",
              "      display:flex;\n",
              "      flex-wrap:wrap;\n",
              "      gap: 12px;\n",
              "    }\n",
              "\n",
              "    .colab-df-convert {\n",
              "      background-color: #E8F0FE;\n",
              "      border: none;\n",
              "      border-radius: 50%;\n",
              "      cursor: pointer;\n",
              "      display: none;\n",
              "      fill: #1967D2;\n",
              "      height: 32px;\n",
              "      padding: 0 0 0 0;\n",
              "      width: 32px;\n",
              "    }\n",
              "\n",
              "    .colab-df-convert:hover {\n",
              "      background-color: #E2EBFA;\n",
              "      box-shadow: 0px 1px 2px rgba(60, 64, 67, 0.3), 0px 1px 3px 1px rgba(60, 64, 67, 0.15);\n",
              "      fill: #174EA6;\n",
              "    }\n",
              "\n",
              "    [theme=dark] .colab-df-convert {\n",
              "      background-color: #3B4455;\n",
              "      fill: #D2E3FC;\n",
              "    }\n",
              "\n",
              "    [theme=dark] .colab-df-convert:hover {\n",
              "      background-color: #434B5C;\n",
              "      box-shadow: 0px 1px 3px 1px rgba(0, 0, 0, 0.15);\n",
              "      filter: drop-shadow(0px 1px 2px rgba(0, 0, 0, 0.3));\n",
              "      fill: #FFFFFF;\n",
              "    }\n",
              "  </style>\n",
              "\n",
              "      <script>\n",
              "        const buttonEl =\n",
              "          document.querySelector('#df-ef901b1c-7ac7-4c10-9ba6-2829972797e7 button.colab-df-convert');\n",
              "        buttonEl.style.display =\n",
              "          google.colab.kernel.accessAllowed ? 'block' : 'none';\n",
              "\n",
              "        async function convertToInteractive(key) {\n",
              "          const element = document.querySelector('#df-ef901b1c-7ac7-4c10-9ba6-2829972797e7');\n",
              "          const dataTable =\n",
              "            await google.colab.kernel.invokeFunction('convertToInteractive',\n",
              "                                                     [key], {});\n",
              "          if (!dataTable) return;\n",
              "\n",
              "          const docLinkHtml = 'Like what you see? Visit the ' +\n",
              "            '<a target=\"_blank\" href=https://colab.research.google.com/notebooks/data_table.ipynb>data table notebook</a>'\n",
              "            + ' to learn more about interactive tables.';\n",
              "          element.innerHTML = '';\n",
              "          dataTable['output_type'] = 'display_data';\n",
              "          await google.colab.output.renderOutput(dataTable, element);\n",
              "          const docLink = document.createElement('div');\n",
              "          docLink.innerHTML = docLinkHtml;\n",
              "          element.appendChild(docLink);\n",
              "        }\n",
              "      </script>\n",
              "    </div>\n",
              "  </div>\n",
              "  "
            ]
          },
          "metadata": {},
          "execution_count": 18
        }
      ]
    },
    {
      "cell_type": "code",
      "source": [
        "# Iremos criar um loop para verificar se os ranges estão realmente com null values\n",
        "for i in null_index:\n",
        "  # Variavel contendo o inicio dos valores null\n",
        "  inicio = null_index[i]['Começa']\n",
        "\n",
        "  # Onde é encontrado o ultimo valor, -1 para tirar o zero contabilizado\n",
        "  fim = null_index[i]['Termina']-1\n",
        "  missing = data['category_nan'][inicio:fim].value_counts()\n",
        "  print(f'De {fim-inicio}, {missing} são missing values')\n",
        "  "
      ],
      "metadata": {
        "id": "Xf8w0r2wWXfa",
        "colab": {
          "base_uri": "https://localhost:8080/"
        },
        "outputId": "3d9c7750-7ce1-4741-ab26-bad9c84a8518"
      },
      "execution_count": null,
      "outputs": [
        {
          "output_type": "stream",
          "name": "stdout",
          "text": [
            "De 158, 1    158\n",
            "Name: category_nan, dtype: int64 são missing values\n",
            "De 138, 1    138\n",
            "Name: category_nan, dtype: int64 são missing values\n",
            "De 38, 1    38\n",
            "Name: category_nan, dtype: int64 são missing values\n",
            "De 33, 1    33\n",
            "Name: category_nan, dtype: int64 são missing values\n",
            "De 92, 1    92\n",
            "Name: category_nan, dtype: int64 são missing values\n",
            "De 168, 1    168\n",
            "Name: category_nan, dtype: int64 são missing values\n",
            "De 1205, 1    1205\n",
            "Name: category_nan, dtype: int64 são missing values\n"
          ]
        }
      ]
    },
    {
      "cell_type": "markdown",
      "source": [
        "Com tais ranges podemos supor com grande grau de confiança que esses valores não estão ausentes por acaso. Resta saber se o motivo de estarem faltando tem alguma relação com alguma variável disponível no data set.\n",
        "\n",
        "Iremos fazer um teste de hipótese para podermos ter o conhecimento se os valores que estão faltando, tem alguma relação com os parâmetros observados. Para isso iremos utilizar o t-test, que serve para testar vários tipos de hipótese. Sendo a equação do teste:\n",
        "\n",
        "t=r√n−2/√1−r^2\n",
        "\n",
        "r = correlação n = número de dados\n",
        "\n",
        "O que definirá se rejeitamos a hipótese H0 (hipótese nulla, não correlação, H = 0) será um valor definido pelo df (Degrees of distribution) que é basicamente o número de variáveis que podem variar, (digamos que temos um dataset com apenas um valor faltando, porém, sabemos a média de todo dataset, assim saberemos também o valor que falta). Como são 1846 dados o df sera 1844, pois em correlação os dados são pareados, podendo assim 1844 valores variarem que não afetaram os resultados.\n",
        "\n",
        "Para valores acima de 1000 os limites para o t distribution ficam muito parecido com o z distribution, para termos uma variação de 95% do H0 que é 0 (sem correlação), t precisa ser maior que 1.96. Dessa forma mostraremos que esse tipo de variação não é normal, e esperado, rejeitando então, a hipótese de que não há relação entre as variáveis\n",
        "\n"
      ],
      "metadata": {
        "id": "cQbK5ysMY1uE"
      }
    },
    {
      "cell_type": "code",
      "source": [
        "# Podemos perceber a correlação dos missing com outras variaveis\n",
        "missing_corr = data.corr()\n",
        "missing_cor = missing_corr['category_nan'].sort_values()[0:-4]\n",
        "\n",
        "# t-test para ver se a correlação entre os variaveis são significantes\n",
        "for i in range(2):\n",
        "\n",
        "    t_test = missing_cor[i-1]*np.sqrt(1844)/np.sqrt(1-(missing_cor[i-1])**2)\n",
        "    print(f'Para a {i-1} variavel o t_test é', t_test)\n"
      ],
      "metadata": {
        "id": "phszSsiZWZSp",
        "colab": {
          "base_uri": "https://localhost:8080/"
        },
        "outputId": "9a5ce888-a0dd-4148-aea0-e2b3d9edfade"
      },
      "execution_count": null,
      "outputs": [
        {
          "output_type": "stream",
          "name": "stdout",
          "text": [
            "Para a -1 variavel o t_test é 5.045133814971601\n",
            "Para a 0 variavel o t_test é -6.0674877353856695\n"
          ]
        }
      ]
    },
    {
      "cell_type": "markdown",
      "source": [
        "Com isso classificamos os missing values como missing at random, já que ele possui uma dependência comprovada com pelo menos uma variável observada.\n",
        "\n",
        "Existem vários métodos de lidar com os missing values, porem os mais simples geralmente introduzem bias para o modelo, como apenas deletar as colunas com valores faltando, dessa forma é introduzido select bias, pois se há algum real motivo para o valor está faltando e à sua deleção estamos tirando essa informação da amostra(esse metodo funciona caso os valores são missing completely at random (mcat))\n",
        "\n",
        "Então o método que será utilizado será o multiple imputation."
      ],
      "metadata": {
        "id": "tZdSNB2gY9g0"
      }
    },
    {
      "cell_type": "code",
      "source": [
        "# Criar 100, dataset, onde os valores missing são preenchidos diferentemente\n",
        "data_multiple = mf.ImputationKernel(data_copy.select_dtypes([int,'uint8',float]),\n",
        "                                    100, save_all_iterations=True, random_state=1)\n",
        "\n",
        "# Variavel contendo a moda dos valores em 'category'\n",
        "moda_category = pd.concat([\n",
        "                data_multiple.complete_data(i) for i in range(100)]).groupby(\n",
        "                level=0)['category'].agg(st.mode)\n",
        "\n",
        "# Inserindo a variavel no dataframe\n",
        "data_copy['category'] = moda_category"
      ],
      "metadata": {
        "id": "9dLr8yHSWUEi"
      },
      "execution_count": null,
      "outputs": []
    },
    {
      "cell_type": "code",
      "source": [
        "# Revertendo 'category' de categoria int para categoria string\n",
        "data_copy['category'] = data_copy['category'].replace(\n",
        "    data_copy['category'].value_counts().index,\n",
        "    par_category)\n",
        "\n",
        "# Vendo as variaveis com missing values\n",
        "for i in data.isnull().sum().index:\n",
        "    if data.isnull().sum().loc[i] > 1:\n",
        "        print(i, data.isnull().sum().loc[i])"
      ],
      "metadata": {
        "id": "M_-0O1vnWUI8",
        "colab": {
          "base_uri": "https://localhost:8080/"
        },
        "outputId": "269b13e3-919a-4f71-a14c-08c47b6a5b68"
      },
      "execution_count": null,
      "outputs": [
        {
          "output_type": "stream",
          "name": "stdout",
          "text": [
            "blurb 5\n",
            "location 45\n"
          ]
        }
      ]
    },
    {
      "cell_type": "code",
      "source": [
        "# Iremos transformar as categorias strings em colunas\n",
        "data_copy = pd.get_dummies(data_copy, columns = ['category'])"
      ],
      "metadata": {
        "id": "uWoLalgpWfGb"
      },
      "execution_count": null,
      "outputs": []
    },
    {
      "cell_type": "markdown",
      "source": [
        "As outras duas variáves com missing values não serão usadas"
      ],
      "metadata": {
        "id": "5vQNGNyEZW4f"
      }
    },
    {
      "cell_type": "markdown",
      "source": [
        "## Selecionando os features"
      ],
      "metadata": {
        "id": "OSLo9CLgb9hp"
      }
    },
    {
      "cell_type": "code",
      "source": [
        "# Excluindo colunas que não serão utilizadas\n",
        "data_copy.drop(['id', 'photo','urls', 'source_url', 'blurb',\n",
        "    'profile','location', 'creator', 'currency_symbol', 'pledged',\n",
        "    'static_usd_rate'],axis=1, inplace=True)\n",
        "\n",
        "data_copy = data_copy.select_dtypes([int, float, bool, 'uint8'])"
      ],
      "metadata": {
        "id": "ru9BU5XMWfKz"
      },
      "execution_count": null,
      "outputs": []
    },
    {
      "cell_type": "code",
      "source": [
        "data_copy"
      ],
      "metadata": {
        "colab": {
          "base_uri": "https://localhost:8080/",
          "height": 488
        },
        "id": "dKWHvwSZOKke",
        "outputId": "d876dc16-6735-4f52-831a-1577aefc42c6"
      },
      "execution_count": null,
      "outputs": [
        {
          "output_type": "execute_result",
          "data": {
            "text/plain": [
              "           goal  state  disable_communication  currency_trailing_code  \\\n",
              "0        1500.0      0                      0                       1   \n",
              "1         500.0      0                      0                       1   \n",
              "2      100000.0      0                      0                       1   \n",
              "3        5000.0      0                      0                       1   \n",
              "4        3222.0      0                      0                       0   \n",
              "...         ...    ...                    ...                     ...   \n",
              "20119   32500.0      0                      0                       0   \n",
              "20120  100000.0      0                      0                       0   \n",
              "20121   10000.0      0                      0                       1   \n",
              "20122    2500.0      0                      0                       1   \n",
              "20123   50000.0      0                      0                       0   \n",
              "\n",
              "       staff_pick  backers_count   usd_pledged  spotlight  country_AT  \\\n",
              "0               0              0      0.000000      False           0   \n",
              "1               0              0      0.000000      False           0   \n",
              "2               0              5    120.000000      False           0   \n",
              "3               0              0      0.000000      False           0   \n",
              "4               0             17    396.802395      False           0   \n",
              "...           ...            ...           ...        ...         ...   \n",
              "20119           0            173  25886.197879      False           0   \n",
              "20120           0             13   1644.428040      False           0   \n",
              "20121           0              0      0.000000      False           0   \n",
              "20122           0              0      0.000000      False           0   \n",
              "20123           0             10    485.123930      False           0   \n",
              "\n",
              "       country_AU  country_BE  country_CA  country_CH  country_DE  country_DK  \\\n",
              "0               0           0           0           0           0           0   \n",
              "1               0           0           0           0           0           0   \n",
              "2               0           0           0           0           0           0   \n",
              "3               0           0           0           0           0           0   \n",
              "4               0           0           0           0           1           0   \n",
              "...           ...         ...         ...         ...         ...         ...   \n",
              "20119           0           0           0           1           0           0   \n",
              "20120           0           0           0           0           1           0   \n",
              "20121           0           0           0           0           0           0   \n",
              "20122           0           0           0           0           0           0   \n",
              "20123           0           0           0           0           0           0   \n",
              "\n",
              "       country_ES  country_FR  country_GB  country_HK  country_IE  country_IT  \\\n",
              "0               0           0           0           0           0           0   \n",
              "1               0           0           0           0           0           0   \n",
              "2               0           0           0           0           0           0   \n",
              "3               0           0           0           0           0           0   \n",
              "4               0           0           0           0           0           0   \n",
              "...           ...         ...         ...         ...         ...         ...   \n",
              "20119           0           0           0           0           0           0   \n",
              "20120           0           0           0           0           0           0   \n",
              "20121           0           0           0           0           0           0   \n",
              "20122           0           0           0           0           0           0   \n",
              "20123           0           0           0           0           1           0   \n",
              "\n",
              "       country_LU  country_MX  country_NL  country_NO  country_NZ  country_SE  \\\n",
              "0               0           0           0           0           0           0   \n",
              "1               0           0           0           0           0           0   \n",
              "2               0           0           0           0           0           0   \n",
              "3               0           0           0           0           0           0   \n",
              "4               0           0           0           0           0           0   \n",
              "...           ...         ...         ...         ...         ...         ...   \n",
              "20119           0           0           0           0           0           0   \n",
              "20120           0           0           0           0           0           0   \n",
              "20121           0           0           0           0           0           0   \n",
              "20122           0           0           0           0           0           0   \n",
              "20123           0           0           0           0           0           0   \n",
              "\n",
              "       country_SG  country_US  currency_AUD  currency_CAD  currency_CHF  \\\n",
              "0               0           1             0             0             0   \n",
              "1               0           1             0             0             0   \n",
              "2               0           1             0             0             0   \n",
              "3               0           1             0             0             0   \n",
              "4               0           0             0             0             0   \n",
              "...           ...         ...           ...           ...           ...   \n",
              "20119           0           0             0             0             1   \n",
              "20120           0           0             0             0             0   \n",
              "20121           0           1             0             0             0   \n",
              "20122           0           1             0             0             0   \n",
              "20123           0           0             0             0             0   \n",
              "\n",
              "       currency_DKK  currency_EUR  currency_GBP  currency_HKD  currency_MXN  \\\n",
              "0                 0             0             0             0             0   \n",
              "1                 0             0             0             0             0   \n",
              "2                 0             0             0             0             0   \n",
              "3                 0             0             0             0             0   \n",
              "4                 0             1             0             0             0   \n",
              "...             ...           ...           ...           ...           ...   \n",
              "20119             0             0             0             0             0   \n",
              "20120             0             1             0             0             0   \n",
              "20121             0             0             0             0             0   \n",
              "20122             0             0             0             0             0   \n",
              "20123             0             1             0             0             0   \n",
              "\n",
              "       currency_NOK  currency_NZD  currency_SEK  currency_SGD  currency_USD  \\\n",
              "0                 0             0             0             0             1   \n",
              "1                 0             0             0             0             1   \n",
              "2                 0             0             0             0             1   \n",
              "3                 0             0             0             0             1   \n",
              "4                 0             0             0             0             0   \n",
              "...             ...           ...           ...           ...           ...   \n",
              "20119             0             0             0             0             0   \n",
              "20120             0             0             0             0             0   \n",
              "20121             0             0             0             0             1   \n",
              "20122             0             0             0             0             1   \n",
              "20123             0             0             0             0             0   \n",
              "\n",
              "       category_Academic  category_Apps  category_Blues  category_Comedy  \\\n",
              "0                      1              0               0                0   \n",
              "1                      1              0               0                0   \n",
              "2                      1              0               0                0   \n",
              "3                      1              0               0                0   \n",
              "4                      1              0               0                0   \n",
              "...                  ...            ...             ...              ...   \n",
              "20119                  0              1               0                0   \n",
              "20120                  0              1               0                0   \n",
              "20121                  0              1               0                0   \n",
              "20122                  0              1               0                0   \n",
              "20123                  0              1               0                0   \n",
              "\n",
              "       category_Experimental  category_Festivals  category_Flight  \\\n",
              "0                          0                   0                0   \n",
              "1                          0                   0                0   \n",
              "2                          0                   0                0   \n",
              "3                          0                   0                0   \n",
              "4                          0                   0                0   \n",
              "...                      ...                 ...              ...   \n",
              "20119                      0                   0                0   \n",
              "20120                      0                   0                0   \n",
              "20121                      0                   0                0   \n",
              "20122                      0                   0                0   \n",
              "20123                      0                   0                0   \n",
              "\n",
              "       category_Gadgets  category_Hardware  category_Immersive  \\\n",
              "0                     0                  0                   0   \n",
              "1                     0                  0                   0   \n",
              "2                     0                  0                   0   \n",
              "3                     0                  0                   0   \n",
              "4                     0                  0                   0   \n",
              "...                 ...                ...                 ...   \n",
              "20119                 0                  0                   0   \n",
              "20120                 0                  0                   0   \n",
              "20121                 0                  0                   0   \n",
              "20122                 0                  0                   0   \n",
              "20123                 0                  0                   0   \n",
              "\n",
              "       category_Makerspaces  category_Musical  category_Places  \\\n",
              "0                         0                 0                0   \n",
              "1                         0                 0                0   \n",
              "2                         0                 0                0   \n",
              "3                         0                 0                0   \n",
              "4                         0                 0                0   \n",
              "...                     ...               ...              ...   \n",
              "20119                     0                 0                0   \n",
              "20120                     0                 0                0   \n",
              "20121                     0                 0                0   \n",
              "20122                     0                 0                0   \n",
              "20123                     0                 0                0   \n",
              "\n",
              "       category_Plays  category_Restaurants  category_Robots  category_Shorts  \\\n",
              "0                   0                     0                0                0   \n",
              "1                   0                     0                0                0   \n",
              "2                   0                     0                0                0   \n",
              "3                   0                     0                0                0   \n",
              "4                   0                     0                0                0   \n",
              "...               ...                   ...              ...              ...   \n",
              "20119               0                     0                0                0   \n",
              "20120               0                     0                0                0   \n",
              "20121               0                     0                0                0   \n",
              "20122               0                     0                0                0   \n",
              "20123               0                     0                0                0   \n",
              "\n",
              "       category_Software  category_Sound  category_Spaces  category_Thrillers  \\\n",
              "0                      0               0                0                   0   \n",
              "1                      0               0                0                   0   \n",
              "2                      0               0                0                   0   \n",
              "3                      0               0                0                   0   \n",
              "4                      0               0                0                   0   \n",
              "...                  ...             ...              ...                 ...   \n",
              "20119                  0               0                0                   0   \n",
              "20120                  0               0                0                   0   \n",
              "20121                  0               0                0                   0   \n",
              "20122                  0               0                0                   0   \n",
              "20123                  0               0                0                   0   \n",
              "\n",
              "       category_Wearables  category_Web  category_Webseries  \n",
              "0                       0             0                   0  \n",
              "1                       0             0                   0  \n",
              "2                       0             0                   0  \n",
              "3                       0             0                   0  \n",
              "4                       0             0                   0  \n",
              "...                   ...           ...                 ...  \n",
              "20119                   0             0                   0  \n",
              "20120                   0             0                   0  \n",
              "20121                   0             0                   0  \n",
              "20122                   0             0                   0  \n",
              "20123                   0             0                   0  \n",
              "\n",
              "[20124 rows x 66 columns]"
            ],
            "text/html": [
              "\n",
              "  <div id=\"df-8d4523de-133d-488d-8ac8-a8b3037313cb\">\n",
              "    <div class=\"colab-df-container\">\n",
              "      <div>\n",
              "<style scoped>\n",
              "    .dataframe tbody tr th:only-of-type {\n",
              "        vertical-align: middle;\n",
              "    }\n",
              "\n",
              "    .dataframe tbody tr th {\n",
              "        vertical-align: top;\n",
              "    }\n",
              "\n",
              "    .dataframe thead th {\n",
              "        text-align: right;\n",
              "    }\n",
              "</style>\n",
              "<table border=\"1\" class=\"dataframe\">\n",
              "  <thead>\n",
              "    <tr style=\"text-align: right;\">\n",
              "      <th></th>\n",
              "      <th>goal</th>\n",
              "      <th>state</th>\n",
              "      <th>disable_communication</th>\n",
              "      <th>currency_trailing_code</th>\n",
              "      <th>staff_pick</th>\n",
              "      <th>backers_count</th>\n",
              "      <th>usd_pledged</th>\n",
              "      <th>spotlight</th>\n",
              "      <th>country_AT</th>\n",
              "      <th>country_AU</th>\n",
              "      <th>country_BE</th>\n",
              "      <th>country_CA</th>\n",
              "      <th>country_CH</th>\n",
              "      <th>country_DE</th>\n",
              "      <th>country_DK</th>\n",
              "      <th>country_ES</th>\n",
              "      <th>country_FR</th>\n",
              "      <th>country_GB</th>\n",
              "      <th>country_HK</th>\n",
              "      <th>country_IE</th>\n",
              "      <th>country_IT</th>\n",
              "      <th>country_LU</th>\n",
              "      <th>country_MX</th>\n",
              "      <th>country_NL</th>\n",
              "      <th>country_NO</th>\n",
              "      <th>country_NZ</th>\n",
              "      <th>country_SE</th>\n",
              "      <th>country_SG</th>\n",
              "      <th>country_US</th>\n",
              "      <th>currency_AUD</th>\n",
              "      <th>currency_CAD</th>\n",
              "      <th>currency_CHF</th>\n",
              "      <th>currency_DKK</th>\n",
              "      <th>currency_EUR</th>\n",
              "      <th>currency_GBP</th>\n",
              "      <th>currency_HKD</th>\n",
              "      <th>currency_MXN</th>\n",
              "      <th>currency_NOK</th>\n",
              "      <th>currency_NZD</th>\n",
              "      <th>currency_SEK</th>\n",
              "      <th>currency_SGD</th>\n",
              "      <th>currency_USD</th>\n",
              "      <th>category_Academic</th>\n",
              "      <th>category_Apps</th>\n",
              "      <th>category_Blues</th>\n",
              "      <th>category_Comedy</th>\n",
              "      <th>category_Experimental</th>\n",
              "      <th>category_Festivals</th>\n",
              "      <th>category_Flight</th>\n",
              "      <th>category_Gadgets</th>\n",
              "      <th>category_Hardware</th>\n",
              "      <th>category_Immersive</th>\n",
              "      <th>category_Makerspaces</th>\n",
              "      <th>category_Musical</th>\n",
              "      <th>category_Places</th>\n",
              "      <th>category_Plays</th>\n",
              "      <th>category_Restaurants</th>\n",
              "      <th>category_Robots</th>\n",
              "      <th>category_Shorts</th>\n",
              "      <th>category_Software</th>\n",
              "      <th>category_Sound</th>\n",
              "      <th>category_Spaces</th>\n",
              "      <th>category_Thrillers</th>\n",
              "      <th>category_Wearables</th>\n",
              "      <th>category_Web</th>\n",
              "      <th>category_Webseries</th>\n",
              "    </tr>\n",
              "  </thead>\n",
              "  <tbody>\n",
              "    <tr>\n",
              "      <th>0</th>\n",
              "      <td>1500.0</td>\n",
              "      <td>0</td>\n",
              "      <td>0</td>\n",
              "      <td>1</td>\n",
              "      <td>0</td>\n",
              "      <td>0</td>\n",
              "      <td>0.000000</td>\n",
              "      <td>False</td>\n",
              "      <td>0</td>\n",
              "      <td>0</td>\n",
              "      <td>0</td>\n",
              "      <td>0</td>\n",
              "      <td>0</td>\n",
              "      <td>0</td>\n",
              "      <td>0</td>\n",
              "      <td>0</td>\n",
              "      <td>0</td>\n",
              "      <td>0</td>\n",
              "      <td>0</td>\n",
              "      <td>0</td>\n",
              "      <td>0</td>\n",
              "      <td>0</td>\n",
              "      <td>0</td>\n",
              "      <td>0</td>\n",
              "      <td>0</td>\n",
              "      <td>0</td>\n",
              "      <td>0</td>\n",
              "      <td>0</td>\n",
              "      <td>1</td>\n",
              "      <td>0</td>\n",
              "      <td>0</td>\n",
              "      <td>0</td>\n",
              "      <td>0</td>\n",
              "      <td>0</td>\n",
              "      <td>0</td>\n",
              "      <td>0</td>\n",
              "      <td>0</td>\n",
              "      <td>0</td>\n",
              "      <td>0</td>\n",
              "      <td>0</td>\n",
              "      <td>0</td>\n",
              "      <td>1</td>\n",
              "      <td>1</td>\n",
              "      <td>0</td>\n",
              "      <td>0</td>\n",
              "      <td>0</td>\n",
              "      <td>0</td>\n",
              "      <td>0</td>\n",
              "      <td>0</td>\n",
              "      <td>0</td>\n",
              "      <td>0</td>\n",
              "      <td>0</td>\n",
              "      <td>0</td>\n",
              "      <td>0</td>\n",
              "      <td>0</td>\n",
              "      <td>0</td>\n",
              "      <td>0</td>\n",
              "      <td>0</td>\n",
              "      <td>0</td>\n",
              "      <td>0</td>\n",
              "      <td>0</td>\n",
              "      <td>0</td>\n",
              "      <td>0</td>\n",
              "      <td>0</td>\n",
              "      <td>0</td>\n",
              "      <td>0</td>\n",
              "    </tr>\n",
              "    <tr>\n",
              "      <th>1</th>\n",
              "      <td>500.0</td>\n",
              "      <td>0</td>\n",
              "      <td>0</td>\n",
              "      <td>1</td>\n",
              "      <td>0</td>\n",
              "      <td>0</td>\n",
              "      <td>0.000000</td>\n",
              "      <td>False</td>\n",
              "      <td>0</td>\n",
              "      <td>0</td>\n",
              "      <td>0</td>\n",
              "      <td>0</td>\n",
              "      <td>0</td>\n",
              "      <td>0</td>\n",
              "      <td>0</td>\n",
              "      <td>0</td>\n",
              "      <td>0</td>\n",
              "      <td>0</td>\n",
              "      <td>0</td>\n",
              "      <td>0</td>\n",
              "      <td>0</td>\n",
              "      <td>0</td>\n",
              "      <td>0</td>\n",
              "      <td>0</td>\n",
              "      <td>0</td>\n",
              "      <td>0</td>\n",
              "      <td>0</td>\n",
              "      <td>0</td>\n",
              "      <td>1</td>\n",
              "      <td>0</td>\n",
              "      <td>0</td>\n",
              "      <td>0</td>\n",
              "      <td>0</td>\n",
              "      <td>0</td>\n",
              "      <td>0</td>\n",
              "      <td>0</td>\n",
              "      <td>0</td>\n",
              "      <td>0</td>\n",
              "      <td>0</td>\n",
              "      <td>0</td>\n",
              "      <td>0</td>\n",
              "      <td>1</td>\n",
              "      <td>1</td>\n",
              "      <td>0</td>\n",
              "      <td>0</td>\n",
              "      <td>0</td>\n",
              "      <td>0</td>\n",
              "      <td>0</td>\n",
              "      <td>0</td>\n",
              "      <td>0</td>\n",
              "      <td>0</td>\n",
              "      <td>0</td>\n",
              "      <td>0</td>\n",
              "      <td>0</td>\n",
              "      <td>0</td>\n",
              "      <td>0</td>\n",
              "      <td>0</td>\n",
              "      <td>0</td>\n",
              "      <td>0</td>\n",
              "      <td>0</td>\n",
              "      <td>0</td>\n",
              "      <td>0</td>\n",
              "      <td>0</td>\n",
              "      <td>0</td>\n",
              "      <td>0</td>\n",
              "      <td>0</td>\n",
              "    </tr>\n",
              "    <tr>\n",
              "      <th>2</th>\n",
              "      <td>100000.0</td>\n",
              "      <td>0</td>\n",
              "      <td>0</td>\n",
              "      <td>1</td>\n",
              "      <td>0</td>\n",
              "      <td>5</td>\n",
              "      <td>120.000000</td>\n",
              "      <td>False</td>\n",
              "      <td>0</td>\n",
              "      <td>0</td>\n",
              "      <td>0</td>\n",
              "      <td>0</td>\n",
              "      <td>0</td>\n",
              "      <td>0</td>\n",
              "      <td>0</td>\n",
              "      <td>0</td>\n",
              "      <td>0</td>\n",
              "      <td>0</td>\n",
              "      <td>0</td>\n",
              "      <td>0</td>\n",
              "      <td>0</td>\n",
              "      <td>0</td>\n",
              "      <td>0</td>\n",
              "      <td>0</td>\n",
              "      <td>0</td>\n",
              "      <td>0</td>\n",
              "      <td>0</td>\n",
              "      <td>0</td>\n",
              "      <td>1</td>\n",
              "      <td>0</td>\n",
              "      <td>0</td>\n",
              "      <td>0</td>\n",
              "      <td>0</td>\n",
              "      <td>0</td>\n",
              "      <td>0</td>\n",
              "      <td>0</td>\n",
              "      <td>0</td>\n",
              "      <td>0</td>\n",
              "      <td>0</td>\n",
              "      <td>0</td>\n",
              "      <td>0</td>\n",
              "      <td>1</td>\n",
              "      <td>1</td>\n",
              "      <td>0</td>\n",
              "      <td>0</td>\n",
              "      <td>0</td>\n",
              "      <td>0</td>\n",
              "      <td>0</td>\n",
              "      <td>0</td>\n",
              "      <td>0</td>\n",
              "      <td>0</td>\n",
              "      <td>0</td>\n",
              "      <td>0</td>\n",
              "      <td>0</td>\n",
              "      <td>0</td>\n",
              "      <td>0</td>\n",
              "      <td>0</td>\n",
              "      <td>0</td>\n",
              "      <td>0</td>\n",
              "      <td>0</td>\n",
              "      <td>0</td>\n",
              "      <td>0</td>\n",
              "      <td>0</td>\n",
              "      <td>0</td>\n",
              "      <td>0</td>\n",
              "      <td>0</td>\n",
              "    </tr>\n",
              "    <tr>\n",
              "      <th>3</th>\n",
              "      <td>5000.0</td>\n",
              "      <td>0</td>\n",
              "      <td>0</td>\n",
              "      <td>1</td>\n",
              "      <td>0</td>\n",
              "      <td>0</td>\n",
              "      <td>0.000000</td>\n",
              "      <td>False</td>\n",
              "      <td>0</td>\n",
              "      <td>0</td>\n",
              "      <td>0</td>\n",
              "      <td>0</td>\n",
              "      <td>0</td>\n",
              "      <td>0</td>\n",
              "      <td>0</td>\n",
              "      <td>0</td>\n",
              "      <td>0</td>\n",
              "      <td>0</td>\n",
              "      <td>0</td>\n",
              "      <td>0</td>\n",
              "      <td>0</td>\n",
              "      <td>0</td>\n",
              "      <td>0</td>\n",
              "      <td>0</td>\n",
              "      <td>0</td>\n",
              "      <td>0</td>\n",
              "      <td>0</td>\n",
              "      <td>0</td>\n",
              "      <td>1</td>\n",
              "      <td>0</td>\n",
              "      <td>0</td>\n",
              "      <td>0</td>\n",
              "      <td>0</td>\n",
              "      <td>0</td>\n",
              "      <td>0</td>\n",
              "      <td>0</td>\n",
              "      <td>0</td>\n",
              "      <td>0</td>\n",
              "      <td>0</td>\n",
              "      <td>0</td>\n",
              "      <td>0</td>\n",
              "      <td>1</td>\n",
              "      <td>1</td>\n",
              "      <td>0</td>\n",
              "      <td>0</td>\n",
              "      <td>0</td>\n",
              "      <td>0</td>\n",
              "      <td>0</td>\n",
              "      <td>0</td>\n",
              "      <td>0</td>\n",
              "      <td>0</td>\n",
              "      <td>0</td>\n",
              "      <td>0</td>\n",
              "      <td>0</td>\n",
              "      <td>0</td>\n",
              "      <td>0</td>\n",
              "      <td>0</td>\n",
              "      <td>0</td>\n",
              "      <td>0</td>\n",
              "      <td>0</td>\n",
              "      <td>0</td>\n",
              "      <td>0</td>\n",
              "      <td>0</td>\n",
              "      <td>0</td>\n",
              "      <td>0</td>\n",
              "      <td>0</td>\n",
              "    </tr>\n",
              "    <tr>\n",
              "      <th>4</th>\n",
              "      <td>3222.0</td>\n",
              "      <td>0</td>\n",
              "      <td>0</td>\n",
              "      <td>0</td>\n",
              "      <td>0</td>\n",
              "      <td>17</td>\n",
              "      <td>396.802395</td>\n",
              "      <td>False</td>\n",
              "      <td>0</td>\n",
              "      <td>0</td>\n",
              "      <td>0</td>\n",
              "      <td>0</td>\n",
              "      <td>0</td>\n",
              "      <td>1</td>\n",
              "      <td>0</td>\n",
              "      <td>0</td>\n",
              "      <td>0</td>\n",
              "      <td>0</td>\n",
              "      <td>0</td>\n",
              "      <td>0</td>\n",
              "      <td>0</td>\n",
              "      <td>0</td>\n",
              "      <td>0</td>\n",
              "      <td>0</td>\n",
              "      <td>0</td>\n",
              "      <td>0</td>\n",
              "      <td>0</td>\n",
              "      <td>0</td>\n",
              "      <td>0</td>\n",
              "      <td>0</td>\n",
              "      <td>0</td>\n",
              "      <td>0</td>\n",
              "      <td>0</td>\n",
              "      <td>1</td>\n",
              "      <td>0</td>\n",
              "      <td>0</td>\n",
              "      <td>0</td>\n",
              "      <td>0</td>\n",
              "      <td>0</td>\n",
              "      <td>0</td>\n",
              "      <td>0</td>\n",
              "      <td>0</td>\n",
              "      <td>1</td>\n",
              "      <td>0</td>\n",
              "      <td>0</td>\n",
              "      <td>0</td>\n",
              "      <td>0</td>\n",
              "      <td>0</td>\n",
              "      <td>0</td>\n",
              "      <td>0</td>\n",
              "      <td>0</td>\n",
              "      <td>0</td>\n",
              "      <td>0</td>\n",
              "      <td>0</td>\n",
              "      <td>0</td>\n",
              "      <td>0</td>\n",
              "      <td>0</td>\n",
              "      <td>0</td>\n",
              "      <td>0</td>\n",
              "      <td>0</td>\n",
              "      <td>0</td>\n",
              "      <td>0</td>\n",
              "      <td>0</td>\n",
              "      <td>0</td>\n",
              "      <td>0</td>\n",
              "      <td>0</td>\n",
              "    </tr>\n",
              "    <tr>\n",
              "      <th>...</th>\n",
              "      <td>...</td>\n",
              "      <td>...</td>\n",
              "      <td>...</td>\n",
              "      <td>...</td>\n",
              "      <td>...</td>\n",
              "      <td>...</td>\n",
              "      <td>...</td>\n",
              "      <td>...</td>\n",
              "      <td>...</td>\n",
              "      <td>...</td>\n",
              "      <td>...</td>\n",
              "      <td>...</td>\n",
              "      <td>...</td>\n",
              "      <td>...</td>\n",
              "      <td>...</td>\n",
              "      <td>...</td>\n",
              "      <td>...</td>\n",
              "      <td>...</td>\n",
              "      <td>...</td>\n",
              "      <td>...</td>\n",
              "      <td>...</td>\n",
              "      <td>...</td>\n",
              "      <td>...</td>\n",
              "      <td>...</td>\n",
              "      <td>...</td>\n",
              "      <td>...</td>\n",
              "      <td>...</td>\n",
              "      <td>...</td>\n",
              "      <td>...</td>\n",
              "      <td>...</td>\n",
              "      <td>...</td>\n",
              "      <td>...</td>\n",
              "      <td>...</td>\n",
              "      <td>...</td>\n",
              "      <td>...</td>\n",
              "      <td>...</td>\n",
              "      <td>...</td>\n",
              "      <td>...</td>\n",
              "      <td>...</td>\n",
              "      <td>...</td>\n",
              "      <td>...</td>\n",
              "      <td>...</td>\n",
              "      <td>...</td>\n",
              "      <td>...</td>\n",
              "      <td>...</td>\n",
              "      <td>...</td>\n",
              "      <td>...</td>\n",
              "      <td>...</td>\n",
              "      <td>...</td>\n",
              "      <td>...</td>\n",
              "      <td>...</td>\n",
              "      <td>...</td>\n",
              "      <td>...</td>\n",
              "      <td>...</td>\n",
              "      <td>...</td>\n",
              "      <td>...</td>\n",
              "      <td>...</td>\n",
              "      <td>...</td>\n",
              "      <td>...</td>\n",
              "      <td>...</td>\n",
              "      <td>...</td>\n",
              "      <td>...</td>\n",
              "      <td>...</td>\n",
              "      <td>...</td>\n",
              "      <td>...</td>\n",
              "      <td>...</td>\n",
              "    </tr>\n",
              "    <tr>\n",
              "      <th>20119</th>\n",
              "      <td>32500.0</td>\n",
              "      <td>0</td>\n",
              "      <td>0</td>\n",
              "      <td>0</td>\n",
              "      <td>0</td>\n",
              "      <td>173</td>\n",
              "      <td>25886.197879</td>\n",
              "      <td>False</td>\n",
              "      <td>0</td>\n",
              "      <td>0</td>\n",
              "      <td>0</td>\n",
              "      <td>0</td>\n",
              "      <td>1</td>\n",
              "      <td>0</td>\n",
              "      <td>0</td>\n",
              "      <td>0</td>\n",
              "      <td>0</td>\n",
              "      <td>0</td>\n",
              "      <td>0</td>\n",
              "      <td>0</td>\n",
              "      <td>0</td>\n",
              "      <td>0</td>\n",
              "      <td>0</td>\n",
              "      <td>0</td>\n",
              "      <td>0</td>\n",
              "      <td>0</td>\n",
              "      <td>0</td>\n",
              "      <td>0</td>\n",
              "      <td>0</td>\n",
              "      <td>0</td>\n",
              "      <td>0</td>\n",
              "      <td>1</td>\n",
              "      <td>0</td>\n",
              "      <td>0</td>\n",
              "      <td>0</td>\n",
              "      <td>0</td>\n",
              "      <td>0</td>\n",
              "      <td>0</td>\n",
              "      <td>0</td>\n",
              "      <td>0</td>\n",
              "      <td>0</td>\n",
              "      <td>0</td>\n",
              "      <td>0</td>\n",
              "      <td>1</td>\n",
              "      <td>0</td>\n",
              "      <td>0</td>\n",
              "      <td>0</td>\n",
              "      <td>0</td>\n",
              "      <td>0</td>\n",
              "      <td>0</td>\n",
              "      <td>0</td>\n",
              "      <td>0</td>\n",
              "      <td>0</td>\n",
              "      <td>0</td>\n",
              "      <td>0</td>\n",
              "      <td>0</td>\n",
              "      <td>0</td>\n",
              "      <td>0</td>\n",
              "      <td>0</td>\n",
              "      <td>0</td>\n",
              "      <td>0</td>\n",
              "      <td>0</td>\n",
              "      <td>0</td>\n",
              "      <td>0</td>\n",
              "      <td>0</td>\n",
              "      <td>0</td>\n",
              "    </tr>\n",
              "    <tr>\n",
              "      <th>20120</th>\n",
              "      <td>100000.0</td>\n",
              "      <td>0</td>\n",
              "      <td>0</td>\n",
              "      <td>0</td>\n",
              "      <td>0</td>\n",
              "      <td>13</td>\n",
              "      <td>1644.428040</td>\n",
              "      <td>False</td>\n",
              "      <td>0</td>\n",
              "      <td>0</td>\n",
              "      <td>0</td>\n",
              "      <td>0</td>\n",
              "      <td>0</td>\n",
              "      <td>1</td>\n",
              "      <td>0</td>\n",
              "      <td>0</td>\n",
              "      <td>0</td>\n",
              "      <td>0</td>\n",
              "      <td>0</td>\n",
              "      <td>0</td>\n",
              "      <td>0</td>\n",
              "      <td>0</td>\n",
              "      <td>0</td>\n",
              "      <td>0</td>\n",
              "      <td>0</td>\n",
              "      <td>0</td>\n",
              "      <td>0</td>\n",
              "      <td>0</td>\n",
              "      <td>0</td>\n",
              "      <td>0</td>\n",
              "      <td>0</td>\n",
              "      <td>0</td>\n",
              "      <td>0</td>\n",
              "      <td>1</td>\n",
              "      <td>0</td>\n",
              "      <td>0</td>\n",
              "      <td>0</td>\n",
              "      <td>0</td>\n",
              "      <td>0</td>\n",
              "      <td>0</td>\n",
              "      <td>0</td>\n",
              "      <td>0</td>\n",
              "      <td>0</td>\n",
              "      <td>1</td>\n",
              "      <td>0</td>\n",
              "      <td>0</td>\n",
              "      <td>0</td>\n",
              "      <td>0</td>\n",
              "      <td>0</td>\n",
              "      <td>0</td>\n",
              "      <td>0</td>\n",
              "      <td>0</td>\n",
              "      <td>0</td>\n",
              "      <td>0</td>\n",
              "      <td>0</td>\n",
              "      <td>0</td>\n",
              "      <td>0</td>\n",
              "      <td>0</td>\n",
              "      <td>0</td>\n",
              "      <td>0</td>\n",
              "      <td>0</td>\n",
              "      <td>0</td>\n",
              "      <td>0</td>\n",
              "      <td>0</td>\n",
              "      <td>0</td>\n",
              "      <td>0</td>\n",
              "    </tr>\n",
              "    <tr>\n",
              "      <th>20121</th>\n",
              "      <td>10000.0</td>\n",
              "      <td>0</td>\n",
              "      <td>0</td>\n",
              "      <td>1</td>\n",
              "      <td>0</td>\n",
              "      <td>0</td>\n",
              "      <td>0.000000</td>\n",
              "      <td>False</td>\n",
              "      <td>0</td>\n",
              "      <td>0</td>\n",
              "      <td>0</td>\n",
              "      <td>0</td>\n",
              "      <td>0</td>\n",
              "      <td>0</td>\n",
              "      <td>0</td>\n",
              "      <td>0</td>\n",
              "      <td>0</td>\n",
              "      <td>0</td>\n",
              "      <td>0</td>\n",
              "      <td>0</td>\n",
              "      <td>0</td>\n",
              "      <td>0</td>\n",
              "      <td>0</td>\n",
              "      <td>0</td>\n",
              "      <td>0</td>\n",
              "      <td>0</td>\n",
              "      <td>0</td>\n",
              "      <td>0</td>\n",
              "      <td>1</td>\n",
              "      <td>0</td>\n",
              "      <td>0</td>\n",
              "      <td>0</td>\n",
              "      <td>0</td>\n",
              "      <td>0</td>\n",
              "      <td>0</td>\n",
              "      <td>0</td>\n",
              "      <td>0</td>\n",
              "      <td>0</td>\n",
              "      <td>0</td>\n",
              "      <td>0</td>\n",
              "      <td>0</td>\n",
              "      <td>1</td>\n",
              "      <td>0</td>\n",
              "      <td>1</td>\n",
              "      <td>0</td>\n",
              "      <td>0</td>\n",
              "      <td>0</td>\n",
              "      <td>0</td>\n",
              "      <td>0</td>\n",
              "      <td>0</td>\n",
              "      <td>0</td>\n",
              "      <td>0</td>\n",
              "      <td>0</td>\n",
              "      <td>0</td>\n",
              "      <td>0</td>\n",
              "      <td>0</td>\n",
              "      <td>0</td>\n",
              "      <td>0</td>\n",
              "      <td>0</td>\n",
              "      <td>0</td>\n",
              "      <td>0</td>\n",
              "      <td>0</td>\n",
              "      <td>0</td>\n",
              "      <td>0</td>\n",
              "      <td>0</td>\n",
              "      <td>0</td>\n",
              "    </tr>\n",
              "    <tr>\n",
              "      <th>20122</th>\n",
              "      <td>2500.0</td>\n",
              "      <td>0</td>\n",
              "      <td>0</td>\n",
              "      <td>1</td>\n",
              "      <td>0</td>\n",
              "      <td>0</td>\n",
              "      <td>0.000000</td>\n",
              "      <td>False</td>\n",
              "      <td>0</td>\n",
              "      <td>0</td>\n",
              "      <td>0</td>\n",
              "      <td>0</td>\n",
              "      <td>0</td>\n",
              "      <td>0</td>\n",
              "      <td>0</td>\n",
              "      <td>0</td>\n",
              "      <td>0</td>\n",
              "      <td>0</td>\n",
              "      <td>0</td>\n",
              "      <td>0</td>\n",
              "      <td>0</td>\n",
              "      <td>0</td>\n",
              "      <td>0</td>\n",
              "      <td>0</td>\n",
              "      <td>0</td>\n",
              "      <td>0</td>\n",
              "      <td>0</td>\n",
              "      <td>0</td>\n",
              "      <td>1</td>\n",
              "      <td>0</td>\n",
              "      <td>0</td>\n",
              "      <td>0</td>\n",
              "      <td>0</td>\n",
              "      <td>0</td>\n",
              "      <td>0</td>\n",
              "      <td>0</td>\n",
              "      <td>0</td>\n",
              "      <td>0</td>\n",
              "      <td>0</td>\n",
              "      <td>0</td>\n",
              "      <td>0</td>\n",
              "      <td>1</td>\n",
              "      <td>0</td>\n",
              "      <td>1</td>\n",
              "      <td>0</td>\n",
              "      <td>0</td>\n",
              "      <td>0</td>\n",
              "      <td>0</td>\n",
              "      <td>0</td>\n",
              "      <td>0</td>\n",
              "      <td>0</td>\n",
              "      <td>0</td>\n",
              "      <td>0</td>\n",
              "      <td>0</td>\n",
              "      <td>0</td>\n",
              "      <td>0</td>\n",
              "      <td>0</td>\n",
              "      <td>0</td>\n",
              "      <td>0</td>\n",
              "      <td>0</td>\n",
              "      <td>0</td>\n",
              "      <td>0</td>\n",
              "      <td>0</td>\n",
              "      <td>0</td>\n",
              "      <td>0</td>\n",
              "      <td>0</td>\n",
              "    </tr>\n",
              "    <tr>\n",
              "      <th>20123</th>\n",
              "      <td>50000.0</td>\n",
              "      <td>0</td>\n",
              "      <td>0</td>\n",
              "      <td>0</td>\n",
              "      <td>0</td>\n",
              "      <td>10</td>\n",
              "      <td>485.123930</td>\n",
              "      <td>False</td>\n",
              "      <td>0</td>\n",
              "      <td>0</td>\n",
              "      <td>0</td>\n",
              "      <td>0</td>\n",
              "      <td>0</td>\n",
              "      <td>0</td>\n",
              "      <td>0</td>\n",
              "      <td>0</td>\n",
              "      <td>0</td>\n",
              "      <td>0</td>\n",
              "      <td>0</td>\n",
              "      <td>1</td>\n",
              "      <td>0</td>\n",
              "      <td>0</td>\n",
              "      <td>0</td>\n",
              "      <td>0</td>\n",
              "      <td>0</td>\n",
              "      <td>0</td>\n",
              "      <td>0</td>\n",
              "      <td>0</td>\n",
              "      <td>0</td>\n",
              "      <td>0</td>\n",
              "      <td>0</td>\n",
              "      <td>0</td>\n",
              "      <td>0</td>\n",
              "      <td>1</td>\n",
              "      <td>0</td>\n",
              "      <td>0</td>\n",
              "      <td>0</td>\n",
              "      <td>0</td>\n",
              "      <td>0</td>\n",
              "      <td>0</td>\n",
              "      <td>0</td>\n",
              "      <td>0</td>\n",
              "      <td>0</td>\n",
              "      <td>1</td>\n",
              "      <td>0</td>\n",
              "      <td>0</td>\n",
              "      <td>0</td>\n",
              "      <td>0</td>\n",
              "      <td>0</td>\n",
              "      <td>0</td>\n",
              "      <td>0</td>\n",
              "      <td>0</td>\n",
              "      <td>0</td>\n",
              "      <td>0</td>\n",
              "      <td>0</td>\n",
              "      <td>0</td>\n",
              "      <td>0</td>\n",
              "      <td>0</td>\n",
              "      <td>0</td>\n",
              "      <td>0</td>\n",
              "      <td>0</td>\n",
              "      <td>0</td>\n",
              "      <td>0</td>\n",
              "      <td>0</td>\n",
              "      <td>0</td>\n",
              "      <td>0</td>\n",
              "    </tr>\n",
              "  </tbody>\n",
              "</table>\n",
              "<p>20124 rows × 66 columns</p>\n",
              "</div>\n",
              "      <button class=\"colab-df-convert\" onclick=\"convertToInteractive('df-8d4523de-133d-488d-8ac8-a8b3037313cb')\"\n",
              "              title=\"Convert this dataframe to an interactive table.\"\n",
              "              style=\"display:none;\">\n",
              "        \n",
              "  <svg xmlns=\"http://www.w3.org/2000/svg\" height=\"24px\"viewBox=\"0 0 24 24\"\n",
              "       width=\"24px\">\n",
              "    <path d=\"M0 0h24v24H0V0z\" fill=\"none\"/>\n",
              "    <path d=\"M18.56 5.44l.94 2.06.94-2.06 2.06-.94-2.06-.94-.94-2.06-.94 2.06-2.06.94zm-11 1L8.5 8.5l.94-2.06 2.06-.94-2.06-.94L8.5 2.5l-.94 2.06-2.06.94zm10 10l.94 2.06.94-2.06 2.06-.94-2.06-.94-.94-2.06-.94 2.06-2.06.94z\"/><path d=\"M17.41 7.96l-1.37-1.37c-.4-.4-.92-.59-1.43-.59-.52 0-1.04.2-1.43.59L10.3 9.45l-7.72 7.72c-.78.78-.78 2.05 0 2.83L4 21.41c.39.39.9.59 1.41.59.51 0 1.02-.2 1.41-.59l7.78-7.78 2.81-2.81c.8-.78.8-2.07 0-2.86zM5.41 20L4 18.59l7.72-7.72 1.47 1.35L5.41 20z\"/>\n",
              "  </svg>\n",
              "      </button>\n",
              "      \n",
              "  <style>\n",
              "    .colab-df-container {\n",
              "      display:flex;\n",
              "      flex-wrap:wrap;\n",
              "      gap: 12px;\n",
              "    }\n",
              "\n",
              "    .colab-df-convert {\n",
              "      background-color: #E8F0FE;\n",
              "      border: none;\n",
              "      border-radius: 50%;\n",
              "      cursor: pointer;\n",
              "      display: none;\n",
              "      fill: #1967D2;\n",
              "      height: 32px;\n",
              "      padding: 0 0 0 0;\n",
              "      width: 32px;\n",
              "    }\n",
              "\n",
              "    .colab-df-convert:hover {\n",
              "      background-color: #E2EBFA;\n",
              "      box-shadow: 0px 1px 2px rgba(60, 64, 67, 0.3), 0px 1px 3px 1px rgba(60, 64, 67, 0.15);\n",
              "      fill: #174EA6;\n",
              "    }\n",
              "\n",
              "    [theme=dark] .colab-df-convert {\n",
              "      background-color: #3B4455;\n",
              "      fill: #D2E3FC;\n",
              "    }\n",
              "\n",
              "    [theme=dark] .colab-df-convert:hover {\n",
              "      background-color: #434B5C;\n",
              "      box-shadow: 0px 1px 3px 1px rgba(0, 0, 0, 0.15);\n",
              "      filter: drop-shadow(0px 1px 2px rgba(0, 0, 0, 0.3));\n",
              "      fill: #FFFFFF;\n",
              "    }\n",
              "  </style>\n",
              "\n",
              "      <script>\n",
              "        const buttonEl =\n",
              "          document.querySelector('#df-8d4523de-133d-488d-8ac8-a8b3037313cb button.colab-df-convert');\n",
              "        buttonEl.style.display =\n",
              "          google.colab.kernel.accessAllowed ? 'block' : 'none';\n",
              "\n",
              "        async function convertToInteractive(key) {\n",
              "          const element = document.querySelector('#df-8d4523de-133d-488d-8ac8-a8b3037313cb');\n",
              "          const dataTable =\n",
              "            await google.colab.kernel.invokeFunction('convertToInteractive',\n",
              "                                                     [key], {});\n",
              "          if (!dataTable) return;\n",
              "\n",
              "          const docLinkHtml = 'Like what you see? Visit the ' +\n",
              "            '<a target=\"_blank\" href=https://colab.research.google.com/notebooks/data_table.ipynb>data table notebook</a>'\n",
              "            + ' to learn more about interactive tables.';\n",
              "          element.innerHTML = '';\n",
              "          dataTable['output_type'] = 'display_data';\n",
              "          await google.colab.output.renderOutput(dataTable, element);\n",
              "          const docLink = document.createElement('div');\n",
              "          docLink.innerHTML = docLinkHtml;\n",
              "          element.appendChild(docLink);\n",
              "        }\n",
              "      </script>\n",
              "    </div>\n",
              "  </div>\n",
              "  "
            ]
          },
          "metadata": {},
          "execution_count": 25
        }
      ]
    },
    {
      "cell_type": "markdown",
      "source": [
        "# EDA\n",
        "\n",
        "Aqui iremos analisar os dados depois de já termos os processado. Poderemos visualizar se há necessidade de mais algum tratamento, e também iremos tirar algumas conclusões sobre eles"
      ],
      "metadata": {
        "id": "kk_d3fYidab9"
      }
    },
    {
      "cell_type": "code",
      "source": [
        "# Analisando a correlação das variaveis com a variavel de interesse\n",
        "corr = data_copy.corr()\n",
        "corr['state'].sort_values()"
      ],
      "metadata": {
        "id": "7uffc91ZWfNM",
        "colab": {
          "base_uri": "https://localhost:8080/"
        },
        "outputId": "918741ff-2245-46e0-91a2-a495c1349d68"
      },
      "execution_count": null,
      "outputs": [
        {
          "output_type": "execute_result",
          "data": {
            "text/plain": [
              "category_Web            -0.174780\n",
              "category_Software       -0.127414\n",
              "disable_communication   -0.070231\n",
              "currency_EUR            -0.068294\n",
              "currency_AUD            -0.052236\n",
              "                           ...   \n",
              "backers_count            0.194228\n",
              "usd_pledged              0.232634\n",
              "staff_pick               0.346628\n",
              "state                    1.000000\n",
              "spotlight                1.000000\n",
              "Name: state, Length: 66, dtype: float64"
            ]
          },
          "metadata": {},
          "execution_count": 26
        }
      ]
    },
    {
      "cell_type": "markdown",
      "source": [
        "Iremos plotar a distribuição com histograma das únicas duas variáveis continuas do data-set"
      ],
      "metadata": {
        "id": "Jdu6DlPENIop"
      }
    },
    {
      "cell_type": "code",
      "source": [
        "# Plotando o histograma da variavel 'goal'\n",
        "plt.hist(x=data_copy['goal'], bins=range(0,300000,10000))"
      ],
      "metadata": {
        "id": "lW9vtqROgYPx",
        "colab": {
          "base_uri": "https://localhost:8080/",
          "height": 439
        },
        "outputId": "8f70d4eb-6076-4b84-bdc6-da1867cf4b6e"
      },
      "execution_count": null,
      "outputs": [
        {
          "output_type": "execute_result",
          "data": {
            "text/plain": [
              "(array([8.129e+03, 3.109e+03, 2.103e+03, 1.216e+03, 5.210e+02, 1.404e+03,\n",
              "        3.770e+02, 3.920e+02, 2.490e+02, 1.430e+02, 7.820e+02, 3.800e+01,\n",
              "        1.710e+02, 4.100e+01, 2.600e+01, 2.480e+02, 2.700e+01, 4.100e+01,\n",
              "        2.900e+01, 2.700e+01, 1.710e+02, 1.100e+01, 2.400e+01, 9.000e+00,\n",
              "        1.200e+01, 1.800e+02, 6.000e+00, 9.000e+00, 1.000e+01]),\n",
              " array([     0,  10000,  20000,  30000,  40000,  50000,  60000,  70000,\n",
              "         80000,  90000, 100000, 110000, 120000, 130000, 140000, 150000,\n",
              "        160000, 170000, 180000, 190000, 200000, 210000, 220000, 230000,\n",
              "        240000, 250000, 260000, 270000, 280000, 290000]),\n",
              " <a list of 29 Patch objects>)"
            ]
          },
          "metadata": {},
          "execution_count": 27
        },
        {
          "output_type": "display_data",
          "data": {
            "text/plain": [
              "<Figure size 432x288 with 1 Axes>"
            ],
            "image/png": "[encoded data removed]"
          },
          "metadata": {
            "needs_background": "light"
          }
        }
      ]
    },
    {
      "cell_type": "code",
      "source": [
        "# Plotando o histograma da variavel 'usd_pledged'\n",
        "plt.hist(x=data_copy['usd_pledged'], bins=range(0,300000,10000))"
      ],
      "metadata": {
        "id": "x26N-oWeWfTv",
        "colab": {
          "base_uri": "https://localhost:8080/",
          "height": 456
        },
        "outputId": "e502721f-3b77-44a2-c4de-d70df5bbd9b9"
      },
      "execution_count": null,
      "outputs": [
        {
          "output_type": "execute_result",
          "data": {
            "text/plain": [
              "(array([1.6053e+04, 1.3040e+03, 5.9800e+02, 3.7600e+02, 2.2200e+02,\n",
              "        2.2000e+02, 1.4900e+02, 1.2600e+02, 8.8000e+01, 8.0000e+01,\n",
              "        1.1600e+02, 7.4000e+01, 6.4000e+01, 3.4000e+01, 3.2000e+01,\n",
              "        4.7000e+01, 4.0000e+01, 3.3000e+01, 2.6000e+01, 2.7000e+01,\n",
              "        2.4000e+01, 1.8000e+01, 1.5000e+01, 1.7000e+01, 9.0000e+00,\n",
              "        1.5000e+01, 1.5000e+01, 1.1000e+01, 7.0000e+00]),\n",
              " array([     0,  10000,  20000,  30000,  40000,  50000,  60000,  70000,\n",
              "         80000,  90000, 100000, 110000, 120000, 130000, 140000, 150000,\n",
              "        160000, 170000, 180000, 190000, 200000, 210000, 220000, 230000,\n",
              "        240000, 250000, 260000, 270000, 280000, 290000]),\n",
              " <a list of 29 Patch objects>)"
            ]
          },
          "metadata": {},
          "execution_count": 28
        },
        {
          "output_type": "display_data",
          "data": {
            "text/plain": [
              "<Figure size 432x288 with 1 Axes>"
            ],
            "image/png": "[encoded data removed]"
          },
          "metadata": {
            "needs_background": "light"
          }
        }
      ]
    },
    {
      "cell_type": "code",
      "source": [
        "# Plotando a distribuição da categoria 'country'\n",
        "country.value_counts().plot(kind='bar')"
      ],
      "metadata": {
        "id": "rLDlM2O3WULz",
        "colab": {
          "base_uri": "https://localhost:8080/",
          "height": 288
        },
        "outputId": "f31415fc-74ae-4f10-b6ab-c2133f2fc940"
      },
      "execution_count": null,
      "outputs": [
        {
          "output_type": "execute_result",
          "data": {
            "text/plain": [
              "<matplotlib.axes._subplots.AxesSubplot at 0x7fce8b57b1f0>"
            ]
          },
          "metadata": {},
          "execution_count": 29
        },
        {
          "output_type": "display_data",
          "data": {
            "text/plain": [
              "<Figure size 432x288 with 1 Axes>"
            ],
            "image/png": "[encoded data removed]"
          },
          "metadata": {
            "needs_background": "light"
          }
        }
      ]
    },
    {
      "cell_type": "code",
      "source": [
        "# Plotando a distribuição da categoria 'currency'\n",
        "currency.value_counts().plot(kind='bar')"
      ],
      "metadata": {
        "id": "OU8I1yL8ghBF",
        "colab": {
          "base_uri": "https://localhost:8080/",
          "height": 295
        },
        "outputId": "4b4f7597-027d-400d-9a58-3d723494a8c8"
      },
      "execution_count": null,
      "outputs": [
        {
          "output_type": "execute_result",
          "data": {
            "text/plain": [
              "<matplotlib.axes._subplots.AxesSubplot at 0x7fce8ba82ac0>"
            ]
          },
          "metadata": {},
          "execution_count": 30
        },
        {
          "output_type": "display_data",
          "data": {
            "text/plain": [
              "<Figure size 432x288 with 1 Axes>"
            ],
            "image/png": "[encoded data removed]"
          },
          "metadata": {
            "needs_background": "light"
          }
        }
      ]
    },
    {
      "cell_type": "code",
      "source": [
        "# Plotando a distribuição da categoria 'category'\n",
        "category.value_counts().plot(kind='bar')"
      ],
      "metadata": {
        "id": "YlE-Qx40ghEE",
        "colab": {
          "base_uri": "https://localhost:8080/",
          "height": 339
        },
        "outputId": "e1d6055b-d952-4628-9390-5a6a8961a268"
      },
      "execution_count": null,
      "outputs": [
        {
          "output_type": "execute_result",
          "data": {
            "text/plain": [
              "<matplotlib.axes._subplots.AxesSubplot at 0x7fce8b467820>"
            ]
          },
          "metadata": {},
          "execution_count": 31
        },
        {
          "output_type": "display_data",
          "data": {
            "text/plain": [
              "<Figure size 432x288 with 1 Axes>"
            ],
            "image/png": "[encoded data removed]"
          },
          "metadata": {
            "needs_background": "light"
          }
        }
      ]
    },
    {
      "cell_type": "code",
      "source": [
        "# Plotando a distribuição da variavel resposta\n",
        "data_copy['state'].value_counts().plot(kind='bar')"
      ],
      "metadata": {
        "colab": {
          "base_uri": "https://localhost:8080/",
          "height": 279
        },
        "id": "6YTNwBA9MxK8",
        "outputId": "c3bc3dd0-27fc-4894-e785-ddaf7fd148c8"
      },
      "execution_count": null,
      "outputs": [
        {
          "output_type": "execute_result",
          "data": {
            "text/plain": [
              "<matplotlib.axes._subplots.AxesSubplot at 0x7fce8b3aeb80>"
            ]
          },
          "metadata": {},
          "execution_count": 32
        },
        {
          "output_type": "display_data",
          "data": {
            "text/plain": [
              "<Figure size 432x288 with 1 Axes>"
            ],
            "image/png": "[encoded data removed]"
          },
          "metadata": {
            "needs_background": "light"
          }
        }
      ]
    },
    {
      "cell_type": "markdown",
      "source": [
        "Com essa análise podemos perceber algumas coisas:\n",
        "\n",
        "1- O data-set possui variáveis correlacionadas ao Y\n",
        "\n",
        "2- Temos float dados que possuem grandes skews\n",
        "\n",
        "3- As variáveis categóricas são bem desbalanceadas, porém isso não é um problema, seria caso essa característica fosse encontrada na variável de resposta Y, porém não é o que acontece.\n",
        "\n",
        "4- Podemos perceber que a variável 'spotlight', é 100% relacionada com nossa variável de resposta, provavelmente é uma informação obtida só depois do ocorrido ter acontecido, dessa forma ela não nos interessa."
      ],
      "metadata": {
        "id": "YYfxAnfgL54O"
      }
    },
    {
      "cell_type": "markdown",
      "source": [
        "## Voltando ao Data Preprocessing"
      ],
      "metadata": {
        "id": "k0MSeiwsPvFn"
      }
    },
    {
      "cell_type": "code",
      "source": [
        "# Deletando uma variavel vista com inválida\n",
        "data_copy.drop('spotlight', axis=1, inplace=True)"
      ],
      "metadata": {
        "id": "vFQ_6MtRL5DN"
      },
      "execution_count": null,
      "outputs": []
    },
    {
      "cell_type": "markdown",
      "source": [
        "Transformaremos todos os valores de 'goal' em log de base 10, dessa forma os deixamos gaussian tendo então algumas vantagens, a principal aqui é que alguns modelos de ML entendem melhor esse tipo de distribuição, pois seus cálculos consideram que irão encontrar esse tipo de distribuição."
      ],
      "metadata": {
        "id": "8CJD7MsFStEy"
      }
    },
    {
      "cell_type": "code",
      "source": [
        "# numero de zeros na variavel 'goal'\n",
        "print('quantia de valores menor ou igual a zero ',(data_copy['goal']<=0).sum(),\n",
        "      '\\n')\n",
        "# Transformando os dados 'goal'\n",
        "data_copy['goal'] = np.log(data_copy['goal'])\n",
        "plt.hist(data_copy['goal'])"
      ],
      "metadata": {
        "id": "eXdCiDefRrU_",
        "colab": {
          "base_uri": "https://localhost:8080/",
          "height": 404
        },
        "outputId": "000fa652-bc5e-45ed-9723-2f49b577abd3"
      },
      "execution_count": null,
      "outputs": [
        {
          "output_type": "stream",
          "name": "stdout",
          "text": [
            "quantia de valores menor ou igual a zero  0 \n",
            "\n"
          ]
        },
        {
          "output_type": "execute_result",
          "data": {
            "text/plain": [
              "(array([  27.,   39.,  357., 2326., 5380., 8604., 2932.,  387.,   59.,\n",
              "          13.]),\n",
              " array([ 0.        ,  1.84206807,  3.68413615,  5.52620422,  7.3682723 ,\n",
              "         9.21034037, 11.05240845, 12.89447652, 14.7365446 , 16.57861267,\n",
              "        18.42068074]),\n",
              " <a list of 10 Patch objects>)"
            ]
          },
          "metadata": {},
          "execution_count": 34
        },
        {
          "output_type": "display_data",
          "data": {
            "text/plain": [
              "<Figure size 432x288 with 1 Axes>"
            ],
            "image/png": "[encoded data removed]"
          },
          "metadata": {
            "needs_background": "light"
          }
        }
      ]
    },
    {
      "cell_type": "markdown",
      "source": [
        "A variável 'usd_pledged' possui valores com zero fazendo então que esse trabalho de normaliza-lo fique mais difícil, e sendo mais provável que introduzira bias para o parametro. E por conter valores zeros devomos usar outro método chamado Inverse hyperbolic sine ao invés do log"
      ],
      "metadata": {
        "id": "Q-P9urEFTi1t"
      }
    },
    {
      "cell_type": "code",
      "source": [
        "# Salvando a variavel no formato padrão\n",
        "usd_pledged_raw = data_copy['usd_pledged']\n",
        "\n",
        "# numero de zeros na variavel 'goal'\n",
        "print('quantia de valores menor ou igual a zero ',\n",
        "      (data_copy['usd_pledged']<=0).sum(),\n",
        "      '\\n')\n",
        "# Transformando os dados 'usd_pledged'\n",
        "data_copy['usd_pledged'] = np.arcsinh(data_copy['usd_pledged'])\n",
        "plt.hist(data_copy['usd_pledged'])"
      ],
      "metadata": {
        "id": "YG5fyjtDRrzd",
        "colab": {
          "base_uri": "https://localhost:8080/",
          "height": 404
        },
        "outputId": "0088c5e6-4d07-4d21-8be1-ac82cf37a1a9"
      },
      "execution_count": null,
      "outputs": [
        {
          "output_type": "stream",
          "name": "stdout",
          "text": [
            "quantia de valores menor ou igual a zero  2806 \n",
            "\n"
          ]
        },
        {
          "output_type": "execute_result",
          "data": {
            "text/plain": [
              "(array([3593.,  847., 1717., 2500., 3312., 3949., 2573., 1285.,  308.,\n",
              "          40.]),\n",
              " array([ 0.        ,  1.63372882,  3.26745764,  4.90118646,  6.53491528,\n",
              "         8.1686441 ,  9.80237292, 11.43610174, 13.06983056, 14.70355938,\n",
              "        16.3372882 ]),\n",
              " <a list of 10 Patch objects>)"
            ]
          },
          "metadata": {},
          "execution_count": 35
        },
        {
          "output_type": "display_data",
          "data": {
            "text/plain": [
              "<Figure size 432x288 with 1 Axes>"
            ],
            "image/png": "[encoded data removed]"
          },
          "metadata": {
            "needs_background": "light"
          }
        }
      ]
    },
    {
      "cell_type": "markdown",
      "source": [
        "# PREPARANDO O MODELO\n",
        "Testaremos dois modelos diferentes, Randomn Forest com a intenção de obtermos melhores previsões e Logistic Regression para termos um modelo mais simples e fácil de ser interpretado para podermos saber quais variaveis tem maior influência em determinar o sucesso de uma start-up."
      ],
      "metadata": {
        "id": "ToF1TJIuVDxO"
      }
    },
    {
      "cell_type": "markdown",
      "source": [
        "## Random Forest \n",
        "Esse é um modelo mais flexível e recomendado o uso em data sets mais complexos e as variáveis não tenham uma correlação tão grande com Y, ou seja, não há uma correlação muito direta entre os dois(Não há problemas caso haja essa correlação porem nesse caso a escolha de uma algorítimo que assume existir essa correlação pode ser uma melhor escolha, pois 1 seu modelo é preparado, e adaptado para esse tipo de situação e 2 costuma ser modelos mais simples, sendo melhor escolher os menos complexos já que a chance de overfitting (\"Decorar\" os valores no treino, e como há variações no teste e em live performar bem a baixo do esperado)), outro motivo é sua interpretabilidade que se torno mais acessível.\n",
        "\n",
        "Ele será treinado usando o cross-validation,  k-fold com k=10, ou seja, os dados primeiro serão \"embaralhados\" e então divididos em 10 parte mais iguais em quantia possível, 9 dessas partes serão usadas para treino e 1 para teste, sera feito isso k vezes havendo o teste em cada k, ao final é feito a média de cada k método (roc_ouc, MSE, etc). Há boas vantagens em se usar esse método ao invés de outros como separar 80% teste e 20% treino chamada validation, k-fold consegue aproveitar melhor seus dados para podermos ter o modelo melhor treinado, já que aproveitamos uma parte maior dos dados para treino, fazendo assim um modelo com menos bias. Há também um teste chamado Leave-one-out cross-validation, ou seja, dos n dados o modelo será treinado em n-1 e testado no, um restante, é então calculado a média do método da avaliação escolhido, o LOOCV tem um bias menor que k-fold, pois consegue aproveitar melhor ainda os dados, porem é extremamente custoso roda-lo devido seu grande número de treinos e testes (n vezes), e pode até ser impossível caso n seja muito grande, sua variação é também maior que k-fold poís a correlação entre os testes é enorme, já que os dados de cada treino são quase idênticos uns aos outros.\n",
        "Então, considerando o bias-variance trade-off k-fold parece ser uma escolha mais apropriada.\n",
        "\n",
        "Selecionaremos alguns parâmetros para colocar no modelo, podendo haver 384 combinações, devido ao custo que iria gerar treinar os 300 modelos sem contar o pior, overfitting, com 384 tentativas as chances de encontrar o modelo que funcionou por acaso, devido à sorte se torna grande. Por isso selecionaremos de forma randômica os parâmetros para colocar no modelo, testando 10 diferentes, dessa forma as chances de encontrar algo por pura chance diminui e ainda assim podemos escolher os parâmetros que melhor se adaptaram aos dados"
      ],
      "metadata": {
        "id": "lMKRZNG7JDYs"
      }
    },
    {
      "cell_type": "code",
      "source": [
        "from sklearn.model_selection import train_test_split\n",
        "from sklearn.model_selection import RandomizedSearchCV\n",
        "from sklearn.ensemble import RandomForestClassifier\n",
        "\n",
        "# Nomeando o objeto do modelo\n",
        "regressor = RandomForestClassifier()\n",
        "\n",
        "# Criando a variável contendo todos os predictors\n",
        "X = data_copy.drop('state', axis=1)\n",
        "# Criando a variavel contendo a resposta\n",
        "Y = data_copy['state']\n",
        "\n",
        "# As configurações que serão usadas no modelo             \n",
        "parametros = {'n_estimators':[10,25,50,100,150,200],\n",
        "        'max_depth':list(range(4,20,2)),\n",
        "         'max_features':list(range(4,20,2))}\n",
        "\n",
        "# Declarando a função contendo o ambiente de trainos e testes\n",
        "rnd_search = RandomizedSearchCV(regressor, parametros, n_iter =10, cv=10, scoring='roc_auc',\n",
        "                               verbose=0, error_score='raise')\n",
        "\n",
        "rnd_search.fit(X,Y)\n",
        "\n",
        "print('parametros do melhor modelo ', rnd_search.best_score_)\n",
        "print('resultado do teste do melhor modelo ', rnd_search.best_params_)"
      ],
      "metadata": {
        "id": "1Fxt5ZQGL-7r",
        "colab": {
          "base_uri": "https://localhost:8080/"
        },
        "outputId": "9277cf0d-f17d-44a6-dc9c-bc04daa09d59"
      },
      "execution_count": null,
      "outputs": [
        {
          "output_type": "stream",
          "name": "stdout",
          "text": [
            "parametros do melhor modelo  0.9816030161243912\n",
            "resultado do teste do melhor modelo  {'n_estimators': 200, 'max_features': 18, 'max_depth': 8}\n"
          ]
        }
      ]
    },
    {
      "cell_type": "markdown",
      "source": [
        "## Logistic Regression\n",
        "Diferente do random forest, logistic regression é um parametric aproach, ou seja, é um modelo que contem mais suposições sobre os dados como seu formato, sua distribuição e com isso é aplicado uma fórmula que condiz com essas suposições, logo o problema se torna estimar os coeficientes dassa formula ao invés de ter que achar um jeito que dado X poderá ser previsto Y, agora só temos que prever os coeficientes de X, assim o problema fica muito mais simples.\n",
        "Os modelos parametric geralmente se dão melhor que os não parametric quando as suposições são atendidas ou os dados obtidos estão em pouca quantidades, já achar coeficientes é mais simples quando há poucas observações ela tem vantagem em cima de non parametric\n",
        "\n",
        "No modelo será utilizado penalty='l1', dessa forma irá ser incentivado que os coeficientes tenham o menor valor possível, sendo possível até ser zero, dessa forma selecionaremos as variáveis que realmente são importantes, podendo diminuir o número de variáveis no modelo, assim diminuiremos a variação e aumentaremos a simplicidade e interpretabilidade do algorítimo"
      ],
      "metadata": {
        "id": "nNAxLqL8is1n"
      }
    },
    {
      "cell_type": "code",
      "source": [
        "from sklearn.model_selection import KFold\n",
        "from sklearn.model_selection import cross_val_score\n",
        "from sklearn.linear_model import LogisticRegression"
      ],
      "metadata": {
        "id": "5Lwxm0G9BwJO"
      },
      "execution_count": null,
      "outputs": []
    },
    {
      "cell_type": "code",
      "source": [
        "# Declarando o dicionario que irá conter informações do modelo\n",
        "model_avaliation = {}\n",
        "\n",
        "# Iremos criar uma função para selecionar o melhor modelo\n",
        "def selection(coef):\n",
        "\n",
        "    # Declando k-fold com k=10\n",
        "    cv = KFold(n_splits=10, random_state=1, shuffle=True)\n",
        "\n",
        "    # Fazer um loop por cada coeficiente\n",
        "    for i in range(len(coef)):\n",
        "        # Declarando o modelo com o devido coeficente\n",
        "        logi_model = LogisticRegression(C=coef[i], penalty='l1', solver='liblinear')\n",
        "\n",
        "        # Testar o modelo no k-fold\n",
        "        scores = cross_val_score(logi_model, X, Y, scoring='roc_auc',\n",
        "                         cv=cv, n_jobs=-1)\n",
        "        \n",
        "        # Treinar o modelo para que possamos ter acesso às variaveis selecionadas\n",
        "        logi_model.fit(X, Y)\n",
        "\n",
        "        # Iremos armazenar o nome e coeficiente das variaveis \n",
        "        var_coef = pd.DataFrame()\n",
        "        var_coef['var'] = logi_model.feature_names_in_\n",
        "        var_coef['coef'] = logi_model.coef_[0]\n",
        "\n",
        "        # Iremos colocar as informações em uma dicionário\n",
        "        model_avaliation[i] = {'variables':var_coef[var_coef['coef'] > 0],\n",
        "                        'score': np.mean(scores),\n",
        "                        'n_variable': len(var_coef[var_coef['coef'] > 0]),\n",
        "                        'coef': coef[i]}\n",
        "\n",
        "    \n",
        "    return logi_model"
      ],
      "metadata": {
        "id": "-m41wOcQHTvN"
      },
      "execution_count": null,
      "outputs": []
    },
    {
      "cell_type": "code",
      "source": [
        "modelos = selection([0.1, 0.05, 0.005, 0.01])\n",
        "\n",
        "model_avaliation"
      ],
      "metadata": {
        "colab": {
          "base_uri": "https://localhost:8080/"
        },
        "id": "U8kOT_jvp5fh",
        "outputId": "b3fb34ad-88a9-4ced-f281-c3db05a1d7c4"
      },
      "execution_count": null,
      "outputs": [
        {
          "output_type": "execute_result",
          "data": {
            "text/plain": [
              "{0: {'variables':                        var      coef\n",
              "  2   currency_trailing_code  3.150464\n",
              "  3               staff_pick  0.178674\n",
              "  5              usd_pledged  4.144147\n",
              "  12              country_DK  0.860971\n",
              "  20              country_MX  0.868087\n",
              "  24              country_SE  0.758420\n",
              "  30            currency_DKK  1.101454\n",
              "  34            currency_MXN  2.275826\n",
              "  37            currency_SEK  0.454946\n",
              "  41           category_Apps  0.235689\n",
              "  45      category_Festivals  0.458329\n",
              "  51        category_Musical  0.313218\n",
              "  53          category_Plays  0.627419,\n",
              "  'score': 0.9962322847522177,\n",
              "  'n_variable': 13,\n",
              "  'coef': 0.1},\n",
              " 1: {'variables':                        var      coef\n",
              "  2   currency_trailing_code  1.290522\n",
              "  3               staff_pick  0.166244\n",
              "  5              usd_pledged  3.730893\n",
              "  51        category_Musical  0.097392\n",
              "  53          category_Plays  0.395551,\n",
              "  'score': 0.9952805060593688,\n",
              "  'n_variable': 5,\n",
              "  'coef': 0.05},\n",
              " 2: {'variables':              var      coef\n",
              "  4  backers_count  0.000129\n",
              "  5    usd_pledged  2.332933,\n",
              "  'score': 0.993023959671399,\n",
              "  'n_variable': 2,\n",
              "  'coef': 0.005},\n",
              " 3: {'variables':                       var      coef\n",
              "  2  currency_trailing_code  0.092044\n",
              "  4           backers_count  0.000018\n",
              "  5             usd_pledged  2.867743,\n",
              "  'score': 0.99302150110779,\n",
              "  'n_variable': 3,\n",
              "  'coef': 0.01}}"
            ]
          },
          "metadata": {},
          "execution_count": 39
        }
      ]
    },
    {
      "cell_type": "code",
      "source": [
        "model_avaliation[3]"
      ],
      "metadata": {
        "colab": {
          "base_uri": "https://localhost:8080/"
        },
        "id": "-H4vgKahq-i_",
        "outputId": "bb7e6bf0-73bc-441f-fbf4-56938c10d5c0"
      },
      "execution_count": null,
      "outputs": [
        {
          "output_type": "execute_result",
          "data": {
            "text/plain": [
              "{'variables':                       var      coef\n",
              " 2  currency_trailing_code  0.092044\n",
              " 4           backers_count  0.000018\n",
              " 5             usd_pledged  2.867743,\n",
              " 'score': 0.99302150110779,\n",
              " 'n_variable': 3,\n",
              " 'coef': 0.01}"
            ]
          },
          "metadata": {},
          "execution_count": 40
        }
      ]
    },
    {
      "cell_type": "markdown",
      "source": [
        "O Logistic regression faz sua previsão com base em probabilidade será 1 caso ele prevê uma probabilidade > 0.5 e 0 caso contrario. Dessa forma se selecionar a constante = 0.01 teremos um modelo com 3 variáveis, sendo então a quantia de dólares adquirido pelo projeto o indicativo mais forte de que a start-up será um sucesso.\n"
      ],
      "metadata": {
        "id": "hPDc96NDrK9b"
      }
    }
  ]
}